{
 "cells": [
  {
   "cell_type": "code",
   "execution_count": 384,
   "id": "efcca599",
   "metadata": {},
   "outputs": [],
   "source": [
    "# Import required libraries\n",
    "import pandas as pd\n",
    "import hvplot.pandas\n",
    "from dotenv import load_dotenv\n",
    "import alpaca_trade_api as tradeapi\n",
    "import datetime\n",
    "import numpy as np\n",
    "import math\n",
    "from sklearn.preprocessing import MinMaxScaler\n",
    "from keras.models import Sequential\n",
    "from keras.layers import Dense, LSTM\n",
    "import matplotlib.pyplot as plt\n",
    "plt.style.use(\"fivethirtyeight\")\n",
    "\n",
    "%matplotlib inline"
   ]
  },
  {
   "cell_type": "code",
   "execution_count": 385,
   "id": "f0b5e464",
   "metadata": {},
   "outputs": [
    {
     "data": {
      "text/plain": [
       "True"
      ]
     },
     "execution_count": 385,
     "metadata": {},
     "output_type": "execute_result"
    }
   ],
   "source": [
    "# Load the environment variables from the .env file\n",
    "# Call the load_dotenv function\n",
    "load_dotenv()"
   ]
  },
  {
   "cell_type": "code",
   "execution_count": 386,
   "id": "f8f4a866",
   "metadata": {},
   "outputs": [],
   "source": [
    "# Set the variables for the Alpaca API and secret keys\n",
    "alpaca_api_key = os.getenv(\"ALPACA_API_KEY\")\n",
    "alpaca_secret_key = os.getenv(\"ALPACA_SECRET_KEY\")\n",
    "# Create the Alpaca tradeapi.REST object\n",
    "alpaca = tradeapi.REST(\n",
    "            alpaca_api_key,\n",
    "            alpaca_secret_key,\n",
    "            api_version = \"v2\")"
   ]
  },
  {
   "cell_type": "code",
   "execution_count": 387,
   "id": "7a2e15af",
   "metadata": {},
   "outputs": [],
   "source": [
    "timeframe = \"1D\"\n",
    "\n",
    "today = str(datetime.datetime.today()).split()[0]\n",
    "\n",
    "three_years_ago= str(datetime.datetime.today()- datetime.timedelta(days=1095)).split()[0]\n",
    "\n",
    "start_date= pd.Timestamp(three_years_ago, tz=\"America/New_York\").isoformat()\n",
    "\n",
    "end_date= pd.Timestamp(today, tz=\"America/New_York\").isoformat()\n",
    "                       \n",
    "limit_rows=1000\n",
    "# Can allow user defined with IPY Widgets above \n",
    "tickers = [\"DBA\", \"SPY\"]"
   ]
  },
  {
   "cell_type": "code",
   "execution_count": 355,
   "id": "90f15bdf",
   "metadata": {},
   "outputs": [
    {
     "name": "stdout",
     "output_type": "stream",
     "text": [
      "Preparing 3 years of historical data... Please wait\n"
     ]
    },
    {
     "data": {
      "text/html": [
       "<div>\n",
       "<style scoped>\n",
       "    .dataframe tbody tr th:only-of-type {\n",
       "        vertical-align: middle;\n",
       "    }\n",
       "\n",
       "    .dataframe tbody tr th {\n",
       "        vertical-align: top;\n",
       "    }\n",
       "\n",
       "    .dataframe thead tr th {\n",
       "        text-align: left;\n",
       "    }\n",
       "\n",
       "    .dataframe thead tr:last-of-type th {\n",
       "        text-align: right;\n",
       "    }\n",
       "</style>\n",
       "<table border=\"1\" class=\"dataframe\">\n",
       "  <thead>\n",
       "    <tr>\n",
       "      <th></th>\n",
       "      <th colspan=\"5\" halign=\"left\">DBA</th>\n",
       "      <th colspan=\"5\" halign=\"left\">SPY</th>\n",
       "    </tr>\n",
       "    <tr>\n",
       "      <th></th>\n",
       "      <th>open</th>\n",
       "      <th>high</th>\n",
       "      <th>low</th>\n",
       "      <th>close</th>\n",
       "      <th>volume</th>\n",
       "      <th>open</th>\n",
       "      <th>high</th>\n",
       "      <th>low</th>\n",
       "      <th>close</th>\n",
       "      <th>volume</th>\n",
       "    </tr>\n",
       "    <tr>\n",
       "      <th>time</th>\n",
       "      <th></th>\n",
       "      <th></th>\n",
       "      <th></th>\n",
       "      <th></th>\n",
       "      <th></th>\n",
       "      <th></th>\n",
       "      <th></th>\n",
       "      <th></th>\n",
       "      <th></th>\n",
       "      <th></th>\n",
       "    </tr>\n",
       "  </thead>\n",
       "  <tbody>\n",
       "    <tr>\n",
       "      <th>2018-11-27 00:00:00-05:00</th>\n",
       "      <td>17.14</td>\n",
       "      <td>17.15</td>\n",
       "      <td>17.0600</td>\n",
       "      <td>17.10</td>\n",
       "      <td>618689</td>\n",
       "      <td>266.34</td>\n",
       "      <td>268.37</td>\n",
       "      <td>265.6600</td>\n",
       "      <td>268.34</td>\n",
       "      <td>65180166</td>\n",
       "    </tr>\n",
       "    <tr>\n",
       "      <th>2018-11-28 00:00:00-05:00</th>\n",
       "      <td>17.19</td>\n",
       "      <td>17.25</td>\n",
       "      <td>17.1502</td>\n",
       "      <td>17.25</td>\n",
       "      <td>331455</td>\n",
       "      <td>269.60</td>\n",
       "      <td>275.10</td>\n",
       "      <td>268.3272</td>\n",
       "      <td>274.50</td>\n",
       "      <td>111668695</td>\n",
       "    </tr>\n",
       "    <tr>\n",
       "      <th>2018-11-29 00:00:00-05:00</th>\n",
       "      <td>17.26</td>\n",
       "      <td>17.35</td>\n",
       "      <td>17.2400</td>\n",
       "      <td>17.27</td>\n",
       "      <td>556825</td>\n",
       "      <td>273.71</td>\n",
       "      <td>275.55</td>\n",
       "      <td>272.4300</td>\n",
       "      <td>273.93</td>\n",
       "      <td>69394238</td>\n",
       "    </tr>\n",
       "    <tr>\n",
       "      <th>2018-11-30 00:00:00-05:00</th>\n",
       "      <td>17.24</td>\n",
       "      <td>17.32</td>\n",
       "      <td>17.2100</td>\n",
       "      <td>17.29</td>\n",
       "      <td>390435</td>\n",
       "      <td>273.81</td>\n",
       "      <td>279.11</td>\n",
       "      <td>273.4500</td>\n",
       "      <td>275.78</td>\n",
       "      <td>80116769</td>\n",
       "    </tr>\n",
       "    <tr>\n",
       "      <th>2018-12-03 00:00:00-05:00</th>\n",
       "      <td>17.42</td>\n",
       "      <td>17.51</td>\n",
       "      <td>17.3300</td>\n",
       "      <td>17.36</td>\n",
       "      <td>1677463</td>\n",
       "      <td>280.28</td>\n",
       "      <td>280.40</td>\n",
       "      <td>277.5050</td>\n",
       "      <td>279.25</td>\n",
       "      <td>86242190</td>\n",
       "    </tr>\n",
       "  </tbody>\n",
       "</table>\n",
       "</div>"
      ],
      "text/plain": [
       "                             DBA                                     SPY  \\\n",
       "                            open   high      low  close   volume    open   \n",
       "time                                                                       \n",
       "2018-11-27 00:00:00-05:00  17.14  17.15  17.0600  17.10   618689  266.34   \n",
       "2018-11-28 00:00:00-05:00  17.19  17.25  17.1502  17.25   331455  269.60   \n",
       "2018-11-29 00:00:00-05:00  17.26  17.35  17.2400  17.27   556825  273.71   \n",
       "2018-11-30 00:00:00-05:00  17.24  17.32  17.2100  17.29   390435  273.81   \n",
       "2018-12-03 00:00:00-05:00  17.42  17.51  17.3300  17.36  1677463  280.28   \n",
       "\n",
       "                                                                \n",
       "                             high       low   close     volume  \n",
       "time                                                            \n",
       "2018-11-27 00:00:00-05:00  268.37  265.6600  268.34   65180166  \n",
       "2018-11-28 00:00:00-05:00  275.10  268.3272  274.50  111668695  \n",
       "2018-11-29 00:00:00-05:00  275.55  272.4300  273.93   69394238  \n",
       "2018-11-30 00:00:00-05:00  279.11  273.4500  275.78   80116769  \n",
       "2018-12-03 00:00:00-05:00  280.40  277.5050  279.25   86242190  "
      ]
     },
     "metadata": {},
     "output_type": "display_data"
    },
    {
     "data": {
      "text/html": [
       "<div>\n",
       "<style scoped>\n",
       "    .dataframe tbody tr th:only-of-type {\n",
       "        vertical-align: middle;\n",
       "    }\n",
       "\n",
       "    .dataframe tbody tr th {\n",
       "        vertical-align: top;\n",
       "    }\n",
       "\n",
       "    .dataframe thead tr th {\n",
       "        text-align: left;\n",
       "    }\n",
       "\n",
       "    .dataframe thead tr:last-of-type th {\n",
       "        text-align: right;\n",
       "    }\n",
       "</style>\n",
       "<table border=\"1\" class=\"dataframe\">\n",
       "  <thead>\n",
       "    <tr>\n",
       "      <th></th>\n",
       "      <th colspan=\"5\" halign=\"left\">DBA</th>\n",
       "      <th colspan=\"5\" halign=\"left\">SPY</th>\n",
       "    </tr>\n",
       "    <tr>\n",
       "      <th></th>\n",
       "      <th>open</th>\n",
       "      <th>high</th>\n",
       "      <th>low</th>\n",
       "      <th>close</th>\n",
       "      <th>volume</th>\n",
       "      <th>open</th>\n",
       "      <th>high</th>\n",
       "      <th>low</th>\n",
       "      <th>close</th>\n",
       "      <th>volume</th>\n",
       "    </tr>\n",
       "    <tr>\n",
       "      <th>time</th>\n",
       "      <th></th>\n",
       "      <th></th>\n",
       "      <th></th>\n",
       "      <th></th>\n",
       "      <th></th>\n",
       "      <th></th>\n",
       "      <th></th>\n",
       "      <th></th>\n",
       "      <th></th>\n",
       "      <th></th>\n",
       "    </tr>\n",
       "  </thead>\n",
       "  <tbody>\n",
       "    <tr>\n",
       "      <th>2021-11-18 00:00:00-05:00</th>\n",
       "      <td>20.15</td>\n",
       "      <td>20.23</td>\n",
       "      <td>19.985</td>\n",
       "      <td>20.03</td>\n",
       "      <td>957250</td>\n",
       "      <td>469.24</td>\n",
       "      <td>470.010</td>\n",
       "      <td>466.34</td>\n",
       "      <td>469.71</td>\n",
       "      <td>45100029</td>\n",
       "    </tr>\n",
       "    <tr>\n",
       "      <th>2021-11-19 00:00:00-05:00</th>\n",
       "      <td>20.08</td>\n",
       "      <td>20.13</td>\n",
       "      <td>20.020</td>\n",
       "      <td>20.06</td>\n",
       "      <td>673169</td>\n",
       "      <td>469.61</td>\n",
       "      <td>470.940</td>\n",
       "      <td>468.50</td>\n",
       "      <td>468.91</td>\n",
       "      <td>49009452</td>\n",
       "    </tr>\n",
       "    <tr>\n",
       "      <th>2021-11-22 00:00:00-05:00</th>\n",
       "      <td>20.03</td>\n",
       "      <td>20.18</td>\n",
       "      <td>20.030</td>\n",
       "      <td>20.15</td>\n",
       "      <td>1511501</td>\n",
       "      <td>470.81</td>\n",
       "      <td>473.540</td>\n",
       "      <td>467.35</td>\n",
       "      <td>467.53</td>\n",
       "      <td>61497941</td>\n",
       "    </tr>\n",
       "    <tr>\n",
       "      <th>2021-11-23 00:00:00-05:00</th>\n",
       "      <td>20.15</td>\n",
       "      <td>20.31</td>\n",
       "      <td>20.110</td>\n",
       "      <td>20.31</td>\n",
       "      <td>984239</td>\n",
       "      <td>467.22</td>\n",
       "      <td>469.095</td>\n",
       "      <td>464.45</td>\n",
       "      <td>468.25</td>\n",
       "      <td>62851184</td>\n",
       "    </tr>\n",
       "    <tr>\n",
       "      <th>2021-11-24 00:00:00-05:00</th>\n",
       "      <td>20.26</td>\n",
       "      <td>20.37</td>\n",
       "      <td>20.260</td>\n",
       "      <td>20.28</td>\n",
       "      <td>684345</td>\n",
       "      <td>466.06</td>\n",
       "      <td>469.570</td>\n",
       "      <td>465.19</td>\n",
       "      <td>469.37</td>\n",
       "      <td>54274217</td>\n",
       "    </tr>\n",
       "  </tbody>\n",
       "</table>\n",
       "</div>"
      ],
      "text/plain": [
       "                             DBA                                    SPY  \\\n",
       "                            open   high     low  close   volume    open   \n",
       "time                                                                      \n",
       "2021-11-18 00:00:00-05:00  20.15  20.23  19.985  20.03   957250  469.24   \n",
       "2021-11-19 00:00:00-05:00  20.08  20.13  20.020  20.06   673169  469.61   \n",
       "2021-11-22 00:00:00-05:00  20.03  20.18  20.030  20.15  1511501  470.81   \n",
       "2021-11-23 00:00:00-05:00  20.15  20.31  20.110  20.31   984239  467.22   \n",
       "2021-11-24 00:00:00-05:00  20.26  20.37  20.260  20.28   684345  466.06   \n",
       "\n",
       "                                                              \n",
       "                              high     low   close    volume  \n",
       "time                                                          \n",
       "2021-11-18 00:00:00-05:00  470.010  466.34  469.71  45100029  \n",
       "2021-11-19 00:00:00-05:00  470.940  468.50  468.91  49009452  \n",
       "2021-11-22 00:00:00-05:00  473.540  467.35  467.53  61497941  \n",
       "2021-11-23 00:00:00-05:00  469.095  464.45  468.25  62851184  \n",
       "2021-11-24 00:00:00-05:00  469.570  465.19  469.37  54274217  "
      ]
     },
     "metadata": {},
     "output_type": "display_data"
    }
   ],
   "source": [
    "print(\"Preparing 3 years of historical data... Please wait\")\n",
    "alpaca_df= alpaca.get_barset(\n",
    "               tickers,\n",
    "               timeframe,\n",
    "               limit= limit_rows,\n",
    "               start = start_date,\n",
    "               end = end_date\n",
    ").df\n",
    "display(alpaca_df.head())\n",
    "display(alpaca_df.tail())"
   ]
  },
  {
   "cell_type": "code",
   "execution_count": 356,
   "id": "8a6cee6a",
   "metadata": {},
   "outputs": [
    {
     "data": {
      "text/html": [
       "<div>\n",
       "<style scoped>\n",
       "    .dataframe tbody tr th:only-of-type {\n",
       "        vertical-align: middle;\n",
       "    }\n",
       "\n",
       "    .dataframe tbody tr th {\n",
       "        vertical-align: top;\n",
       "    }\n",
       "\n",
       "    .dataframe thead th {\n",
       "        text-align: right;\n",
       "    }\n",
       "</style>\n",
       "<table border=\"1\" class=\"dataframe\">\n",
       "  <thead>\n",
       "    <tr style=\"text-align: right;\">\n",
       "      <th></th>\n",
       "      <th>DBA</th>\n",
       "      <th>SPY</th>\n",
       "    </tr>\n",
       "  </thead>\n",
       "  <tbody>\n",
       "    <tr>\n",
       "      <th>2018-11-27</th>\n",
       "      <td>17.10</td>\n",
       "      <td>268.34</td>\n",
       "    </tr>\n",
       "    <tr>\n",
       "      <th>2018-11-28</th>\n",
       "      <td>17.25</td>\n",
       "      <td>274.50</td>\n",
       "    </tr>\n",
       "    <tr>\n",
       "      <th>2018-11-29</th>\n",
       "      <td>17.27</td>\n",
       "      <td>273.93</td>\n",
       "    </tr>\n",
       "    <tr>\n",
       "      <th>2018-11-30</th>\n",
       "      <td>17.29</td>\n",
       "      <td>275.78</td>\n",
       "    </tr>\n",
       "    <tr>\n",
       "      <th>2018-12-03</th>\n",
       "      <td>17.36</td>\n",
       "      <td>279.25</td>\n",
       "    </tr>\n",
       "  </tbody>\n",
       "</table>\n",
       "</div>"
      ],
      "text/plain": [
       "              DBA     SPY\n",
       "2018-11-27  17.10  268.34\n",
       "2018-11-28  17.25  274.50\n",
       "2018-11-29  17.27  273.93\n",
       "2018-11-30  17.29  275.78\n",
       "2018-12-03  17.36  279.25"
      ]
     },
     "execution_count": 356,
     "metadata": {},
     "output_type": "execute_result"
    }
   ],
   "source": [
    "# Creating new DF that contains closing prices for DBA and SPY\n",
    "closing_prices= pd.DataFrame()\n",
    "closing_prices[\"DBA\"]= alpaca_df[\"DBA\"][\"close\"]\n",
    "closing_prices[\"SPY\"]= alpaca_df[\"SPY\"][\"close\"]\n",
    "closing_prices.index= closing_prices.index.date\n",
    "closing_prices.head()"
   ]
  },
  {
   "cell_type": "code",
   "execution_count": 389,
   "id": "3231a155",
   "metadata": {},
   "outputs": [
    {
     "data": {},
     "metadata": {},
     "output_type": "display_data"
    },
    {
     "data": {
      "application/vnd.holoviews_exec.v0+json": "",
      "text/html": [
       "<div id='1002'>\n",
       "\n",
       "\n",
       "\n",
       "\n",
       "\n",
       "  <div class=\"bk-root\" id=\"72410d07-90b3-45f8-9f87-caa488588c39\" data-root-id=\"1002\"></div>\n",
       "</div>\n",
       "<script type=\"application/javascript\">(function(root) {\n",
       "  function embed_document(root) {\n",
       "    var docs_json = {\"8e001f2f-4d13-4f9f-bfc7-4f27ab9d72c9\":{\"defs\":[{\"extends\":null,\"module\":null,\"name\":\"ReactiveHTML1\",\"overrides\":[],\"properties\":[]},{\"extends\":null,\"module\":null,\"name\":\"FlexBox1\",\"overrides\":[],\"properties\":[{\"default\":\"flex-start\",\"kind\":null,\"name\":\"align_content\"},{\"default\":\"flex-start\",\"kind\":null,\"name\":\"align_items\"},{\"default\":\"row\",\"kind\":null,\"name\":\"flex_direction\"},{\"default\":\"wrap\",\"kind\":null,\"name\":\"flex_wrap\"},{\"default\":\"flex-start\",\"kind\":null,\"name\":\"justify_content\"}]},{\"extends\":null,\"module\":null,\"name\":\"TemplateActions1\",\"overrides\":[],\"properties\":[{\"default\":0,\"kind\":null,\"name\":\"open_modal\"},{\"default\":0,\"kind\":null,\"name\":\"close_modal\"}]},{\"extends\":null,\"module\":null,\"name\":\"MaterialTemplateActions1\",\"overrides\":[],\"properties\":[{\"default\":0,\"kind\":null,\"name\":\"open_modal\"},{\"default\":0,\"kind\":null,\"name\":\"close_modal\"}]}],\"roots\":{\"references\":[{\"attributes\":{\"line_alpha\":0.2,\"line_color\":\"#30a2da\",\"line_width\":2,\"x\":{\"field\":\"index\"},\"y\":{\"field\":\"value\"}},\"id\":\"1049\",\"type\":\"Line\"},{\"attributes\":{\"line_alpha\":0.1,\"line_color\":\"#fc4f30\",\"line_width\":2,\"x\":{\"field\":\"index\"},\"y\":{\"field\":\"value\"}},\"id\":\"1081\",\"type\":\"Line\"},{\"attributes\":{\"bottom_units\":\"screen\",\"fill_alpha\":0.5,\"fill_color\":\"lightgrey\",\"left_units\":\"screen\",\"level\":\"overlay\",\"line_alpha\":1.0,\"line_color\":\"black\",\"line_dash\":[4,4],\"line_width\":2,\"right_units\":\"screen\",\"syncable\":false,\"top_units\":\"screen\"},\"id\":\"1030\",\"type\":\"BoxAnnotation\"},{\"attributes\":{\"below\":[{\"id\":\"1017\"}],\"center\":[{\"id\":\"1020\"},{\"id\":\"1024\"}],\"height\":300,\"left\":[{\"id\":\"1021\"}],\"margin\":[5,5,5,5],\"min_border_bottom\":10,\"min_border_left\":10,\"min_border_right\":10,\"min_border_top\":10,\"renderers\":[{\"id\":\"1050\"},{\"id\":\"1083\"}],\"right\":[{\"id\":\"1074\"}],\"sizing_mode\":\"fixed\",\"title\":{\"id\":\"1009\"},\"toolbar\":{\"id\":\"1031\"},\"width\":700,\"x_range\":{\"id\":\"1004\"},\"x_scale\":{\"id\":\"1013\"},\"y_range\":{\"id\":\"1005\"},\"y_scale\":{\"id\":\"1015\"}},\"id\":\"1008\",\"subtype\":\"Figure\",\"type\":\"Plot\"},{\"attributes\":{\"days\":[1,2,3,4,5,6,7,8,9,10,11,12,13,14,15,16,17,18,19,20,21,22,23,24,25,26,27,28,29,30,31]},\"id\":\"1062\",\"type\":\"DaysTicker\"},{\"attributes\":{\"source\":{\"id\":\"1044\"}},\"id\":\"1051\",\"type\":\"CDSView\"},{\"attributes\":{\"active_multi\":null,\"tools\":[{\"id\":\"1006\"},{\"id\":\"1025\"},{\"id\":\"1026\"},{\"id\":\"1027\"},{\"id\":\"1028\"},{\"id\":\"1029\"}]},\"id\":\"1031\",\"type\":\"Toolbar\"},{\"attributes\":{\"base\":24,\"mantissas\":[1,2,4,6,8,12],\"max_interval\":43200000.0,\"min_interval\":3600000.0,\"num_minor_ticks\":0},\"id\":\"1061\",\"type\":\"AdaptiveTicker\"},{\"attributes\":{\"data_source\":{\"id\":\"1077\"},\"glyph\":{\"id\":\"1080\"},\"hover_glyph\":null,\"muted_glyph\":{\"id\":\"1082\"},\"nonselection_glyph\":{\"id\":\"1081\"},\"selection_glyph\":{\"id\":\"1110\"},\"view\":{\"id\":\"1084\"}},\"id\":\"1083\",\"type\":\"GlyphRenderer\"},{\"attributes\":{},\"id\":\"1025\",\"type\":\"SaveTool\"},{\"attributes\":{},\"id\":\"1043\",\"type\":\"AllLabels\"},{\"attributes\":{},\"id\":\"1026\",\"type\":\"PanTool\"},{\"attributes\":{},\"id\":\"1042\",\"type\":\"BasicTickFormatter\"},{\"attributes\":{},\"id\":\"1106\",\"type\":\"UnionRenderers\"},{\"attributes\":{},\"id\":\"1027\",\"type\":\"WheelZoomTool\"},{\"attributes\":{\"line_color\":\"#fc4f30\",\"line_width\":2,\"x\":{\"field\":\"index\"},\"y\":{\"field\":\"value\"}},\"id\":\"1080\",\"type\":\"Line\"},{\"attributes\":{},\"id\":\"1022\",\"type\":\"BasicTicker\"},{\"attributes\":{\"days\":[1,4,7,10,13,16,19,22,25,28]},\"id\":\"1063\",\"type\":\"DaysTicker\"},{\"attributes\":{\"overlay\":{\"id\":\"1030\"}},\"id\":\"1028\",\"type\":\"BoxZoomTool\"},{\"attributes\":{},\"id\":\"1078\",\"type\":\"Selection\"},{\"attributes\":{\"source\":{\"id\":\"1077\"}},\"id\":\"1084\",\"type\":\"CDSView\"},{\"attributes\":{\"days\":[1,8,15,22]},\"id\":\"1064\",\"type\":\"DaysTicker\"},{\"attributes\":{\"label\":{\"value\":\"DBA\"},\"renderers\":[{\"id\":\"1050\"}]},\"id\":\"1075\",\"type\":\"LegendItem\"},{\"attributes\":{\"days\":[1,15]},\"id\":\"1065\",\"type\":\"DaysTicker\"},{\"attributes\":{\"text\":\"Closing prices of DBA and SPY\",\"text_color\":\"black\",\"text_font_size\":\"12pt\"},\"id\":\"1009\",\"type\":\"Title\"},{\"attributes\":{\"end\":1637712000000.0,\"reset_end\":1637712000000.0,\"reset_start\":1543276800000.0,\"start\":1543276800000.0,\"tags\":[[[\"index\",\"index\",null]]]},\"id\":\"1004\",\"type\":\"Range1d\"},{\"attributes\":{},\"id\":\"1029\",\"type\":\"ResetTool\"},{\"attributes\":{\"months\":[0,1,2,3,4,5,6,7,8,9,10,11]},\"id\":\"1066\",\"type\":\"MonthsTicker\"},{\"attributes\":{\"end\":515.364,\"reset_end\":515.364,\"reset_start\":-32.483999999999995,\"start\":-32.483999999999995,\"tags\":[[[\"value\",\"value\",null]]]},\"id\":\"1005\",\"type\":\"Range1d\"},{\"attributes\":{},\"id\":\"1015\",\"type\":\"LinearScale\"},{\"attributes\":{\"months\":[0,2,4,6,8,10]},\"id\":\"1067\",\"type\":\"MonthsTicker\"},{\"attributes\":{\"axis_label\":\"\",\"formatter\":{\"id\":\"1039\"},\"major_label_orientation\":1.5707963267948966,\"major_label_policy\":{\"id\":\"1040\"},\"ticker\":{\"id\":\"1018\"}},\"id\":\"1017\",\"type\":\"DatetimeAxis\"},{\"attributes\":{\"num_minor_ticks\":5,\"tickers\":[{\"id\":\"1059\"},{\"id\":\"1060\"},{\"id\":\"1061\"},{\"id\":\"1062\"},{\"id\":\"1063\"},{\"id\":\"1064\"},{\"id\":\"1065\"},{\"id\":\"1066\"},{\"id\":\"1067\"},{\"id\":\"1068\"},{\"id\":\"1069\"},{\"id\":\"1070\"}]},\"id\":\"1018\",\"type\":\"DatetimeTicker\"},{\"attributes\":{\"months\":[0,4,8]},\"id\":\"1068\",\"type\":\"MonthsTicker\"},{\"attributes\":{\"line_color\":\"#30a2da\",\"line_width\":2,\"x\":{\"field\":\"index\"},\"y\":{\"field\":\"value\"}},\"id\":\"1076\",\"type\":\"Line\"},{\"attributes\":{\"margin\":[5,5,5,5],\"name\":\"HSpacer01654\",\"sizing_mode\":\"stretch_width\"},\"id\":\"1327\",\"type\":\"Spacer\"},{\"attributes\":{\"months\":[0,6]},\"id\":\"1069\",\"type\":\"MonthsTicker\"},{\"attributes\":{},\"id\":\"1013\",\"type\":\"LinearScale\"},{\"attributes\":{\"line_alpha\":0.2,\"line_color\":\"#fc4f30\",\"line_width\":2,\"x\":{\"field\":\"index\"},\"y\":{\"field\":\"value\"}},\"id\":\"1082\",\"type\":\"Line\"},{\"attributes\":{\"line_color\":\"#fc4f30\",\"line_width\":2,\"x\":{\"field\":\"index\"},\"y\":{\"field\":\"value\"}},\"id\":\"1110\",\"type\":\"Line\"},{\"attributes\":{\"base\":60,\"mantissas\":[1,2,5,10,15,20,30],\"max_interval\":1800000.0,\"min_interval\":1000.0,\"num_minor_ticks\":0},\"id\":\"1060\",\"type\":\"AdaptiveTicker\"},{\"attributes\":{},\"id\":\"1070\",\"type\":\"YearsTicker\"},{\"attributes\":{\"axis\":{\"id\":\"1017\"},\"grid_line_color\":null,\"ticker\":null},\"id\":\"1020\",\"type\":\"Grid\"},{\"attributes\":{\"line_color\":\"#30a2da\",\"line_width\":2,\"x\":{\"field\":\"index\"},\"y\":{\"field\":\"value\"}},\"id\":\"1047\",\"type\":\"Line\"},{\"attributes\":{},\"id\":\"1045\",\"type\":\"Selection\"},{\"attributes\":{\"click_policy\":\"mute\",\"items\":[{\"id\":\"1075\"},{\"id\":\"1109\"}],\"location\":[0,0],\"title\":\"Variable\"},\"id\":\"1074\",\"type\":\"Legend\"},{\"attributes\":{},\"id\":\"1071\",\"type\":\"UnionRenderers\"},{\"attributes\":{\"children\":[{\"id\":\"1003\"},{\"id\":\"1008\"},{\"id\":\"1327\"}],\"margin\":[0,0,0,0],\"name\":\"Row01649\",\"tags\":[\"embedded\"]},\"id\":\"1002\",\"type\":\"Row\"},{\"attributes\":{\"axis\":{\"id\":\"1021\"},\"dimension\":1,\"grid_line_color\":null,\"ticker\":null},\"id\":\"1024\",\"type\":\"Grid\"},{\"attributes\":{},\"id\":\"1039\",\"type\":\"DatetimeTickFormatter\"},{\"attributes\":{\"mantissas\":[1,2,5],\"max_interval\":500.0,\"num_minor_ticks\":0},\"id\":\"1059\",\"type\":\"AdaptiveTicker\"},{\"attributes\":{\"margin\":[5,5,5,5],\"name\":\"HSpacer01653\",\"sizing_mode\":\"stretch_width\"},\"id\":\"1003\",\"type\":\"Spacer\"},{\"attributes\":{\"data_source\":{\"id\":\"1044\"},\"glyph\":{\"id\":\"1047\"},\"hover_glyph\":null,\"muted_glyph\":{\"id\":\"1049\"},\"nonselection_glyph\":{\"id\":\"1048\"},\"selection_glyph\":{\"id\":\"1076\"},\"view\":{\"id\":\"1051\"}},\"id\":\"1050\",\"type\":\"GlyphRenderer\"},{\"attributes\":{\"axis_label\":\"\",\"formatter\":{\"id\":\"1042\"},\"major_label_policy\":{\"id\":\"1043\"},\"ticker\":{\"id\":\"1022\"}},\"id\":\"1021\",\"type\":\"LinearAxis\"},{\"attributes\":{\"line_alpha\":0.1,\"line_color\":\"#30a2da\",\"line_width\":2,\"x\":{\"field\":\"index\"},\"y\":{\"field\":\"value\"}},\"id\":\"1048\",\"type\":\"Line\"},{\"attributes\":{\"data\":{\"Variable\":[\"DBA\",\"DBA\",\"DBA\",\"DBA\",\"DBA\",\"DBA\",\"DBA\",\"DBA\",\"DBA\",\"DBA\",\"DBA\",\"DBA\",\"DBA\",\"DBA\",\"DBA\",\"DBA\",\"DBA\",\"DBA\",\"DBA\",\"DBA\",\"DBA\",\"DBA\",\"DBA\",\"DBA\",\"DBA\",\"DBA\",\"DBA\",\"DBA\",\"DBA\",\"DBA\",\"DBA\",\"DBA\",\"DBA\",\"DBA\",\"DBA\",\"DBA\",\"DBA\",\"DBA\",\"DBA\",\"DBA\",\"DBA\",\"DBA\",\"DBA\",\"DBA\",\"DBA\",\"DBA\",\"DBA\",\"DBA\",\"DBA\",\"DBA\",\"DBA\",\"DBA\",\"DBA\",\"DBA\",\"DBA\",\"DBA\",\"DBA\",\"DBA\",\"DBA\",\"DBA\",\"DBA\",\"DBA\",\"DBA\",\"DBA\",\"DBA\",\"DBA\",\"DBA\",\"DBA\",\"DBA\",\"DBA\",\"DBA\",\"DBA\",\"DBA\",\"DBA\",\"DBA\",\"DBA\",\"DBA\",\"DBA\",\"DBA\",\"DBA\",\"DBA\",\"DBA\",\"DBA\",\"DBA\",\"DBA\",\"DBA\",\"DBA\",\"DBA\",\"DBA\",\"DBA\",\"DBA\",\"DBA\",\"DBA\",\"DBA\",\"DBA\",\"DBA\",\"DBA\",\"DBA\",\"DBA\",\"DBA\",\"DBA\",\"DBA\",\"DBA\",\"DBA\",\"DBA\",\"DBA\",\"DBA\",\"DBA\",\"DBA\",\"DBA\",\"DBA\",\"DBA\",\"DBA\",\"DBA\",\"DBA\",\"DBA\",\"DBA\",\"DBA\",\"DBA\",\"DBA\",\"DBA\",\"DBA\",\"DBA\",\"DBA\",\"DBA\",\"DBA\",\"DBA\",\"DBA\",\"DBA\",\"DBA\",\"DBA\",\"DBA\",\"DBA\",\"DBA\",\"DBA\",\"DBA\",\"DBA\",\"DBA\",\"DBA\",\"DBA\",\"DBA\",\"DBA\",\"DBA\",\"DBA\",\"DBA\",\"DBA\",\"DBA\",\"DBA\",\"DBA\",\"DBA\",\"DBA\",\"DBA\",\"DBA\",\"DBA\",\"DBA\",\"DBA\",\"DBA\",\"DBA\",\"DBA\",\"DBA\",\"DBA\",\"DBA\",\"DBA\",\"DBA\",\"DBA\",\"DBA\",\"DBA\",\"DBA\",\"DBA\",\"DBA\",\"DBA\",\"DBA\",\"DBA\",\"DBA\",\"DBA\",\"DBA\",\"DBA\",\"DBA\",\"DBA\",\"DBA\",\"DBA\",\"DBA\",\"DBA\",\"DBA\",\"DBA\",\"DBA\",\"DBA\",\"DBA\",\"DBA\",\"DBA\",\"DBA\",\"DBA\",\"DBA\",\"DBA\",\"DBA\",\"DBA\",\"DBA\",\"DBA\",\"DBA\",\"DBA\",\"DBA\",\"DBA\",\"DBA\",\"DBA\",\"DBA\",\"DBA\",\"DBA\",\"DBA\",\"DBA\",\"DBA\",\"DBA\",\"DBA\",\"DBA\",\"DBA\",\"DBA\",\"DBA\",\"DBA\",\"DBA\",\"DBA\",\"DBA\",\"DBA\",\"DBA\",\"DBA\",\"DBA\",\"DBA\",\"DBA\",\"DBA\",\"DBA\",\"DBA\",\"DBA\",\"DBA\",\"DBA\",\"DBA\",\"DBA\",\"DBA\",\"DBA\",\"DBA\",\"DBA\",\"DBA\",\"DBA\",\"DBA\",\"DBA\",\"DBA\",\"DBA\",\"DBA\",\"DBA\",\"DBA\",\"DBA\",\"DBA\",\"DBA\",\"DBA\",\"DBA\",\"DBA\",\"DBA\",\"DBA\",\"DBA\",\"DBA\",\"DBA\",\"DBA\",\"DBA\",\"DBA\",\"DBA\",\"DBA\",\"DBA\",\"DBA\",\"DBA\",\"DBA\",\"DBA\",\"DBA\",\"DBA\",\"DBA\",\"DBA\",\"DBA\",\"DBA\",\"DBA\",\"DBA\",\"DBA\",\"DBA\",\"DBA\",\"DBA\",\"DBA\",\"DBA\",\"DBA\",\"DBA\",\"DBA\",\"DBA\",\"DBA\",\"DBA\",\"DBA\",\"DBA\",\"DBA\",\"DBA\",\"DBA\",\"DBA\",\"DBA\",\"DBA\",\"DBA\",\"DBA\",\"DBA\",\"DBA\",\"DBA\",\"DBA\",\"DBA\",\"DBA\",\"DBA\",\"DBA\",\"DBA\",\"DBA\",\"DBA\",\"DBA\",\"DBA\",\"DBA\",\"DBA\",\"DBA\",\"DBA\",\"DBA\",\"DBA\",\"DBA\",\"DBA\",\"DBA\",\"DBA\",\"DBA\",\"DBA\",\"DBA\",\"DBA\",\"DBA\",\"DBA\",\"DBA\",\"DBA\",\"DBA\",\"DBA\",\"DBA\",\"DBA\",\"DBA\",\"DBA\",\"DBA\",\"DBA\",\"DBA\",\"DBA\",\"DBA\",\"DBA\",\"DBA\",\"DBA\",\"DBA\",\"DBA\",\"DBA\",\"DBA\",\"DBA\",\"DBA\",\"DBA\",\"DBA\",\"DBA\",\"DBA\",\"DBA\",\"DBA\",\"DBA\",\"DBA\",\"DBA\",\"DBA\",\"DBA\",\"DBA\",\"DBA\",\"DBA\",\"DBA\",\"DBA\",\"DBA\",\"DBA\",\"DBA\",\"DBA\",\"DBA\",\"DBA\",\"DBA\",\"DBA\",\"DBA\",\"DBA\",\"DBA\",\"DBA\",\"DBA\",\"DBA\",\"DBA\",\"DBA\",\"DBA\",\"DBA\",\"DBA\",\"DBA\",\"DBA\",\"DBA\",\"DBA\",\"DBA\",\"DBA\",\"DBA\",\"DBA\",\"DBA\",\"DBA\",\"DBA\",\"DBA\",\"DBA\",\"DBA\",\"DBA\",\"DBA\",\"DBA\",\"DBA\",\"DBA\",\"DBA\",\"DBA\",\"DBA\",\"DBA\",\"DBA\",\"DBA\",\"DBA\",\"DBA\",\"DBA\",\"DBA\",\"DBA\",\"DBA\",\"DBA\",\"DBA\",\"DBA\",\"DBA\",\"DBA\",\"DBA\",\"DBA\",\"DBA\",\"DBA\",\"DBA\",\"DBA\",\"DBA\",\"DBA\",\"DBA\",\"DBA\",\"DBA\",\"DBA\",\"DBA\",\"DBA\",\"DBA\",\"DBA\",\"DBA\",\"DBA\",\"DBA\",\"DBA\",\"DBA\",\"DBA\",\"DBA\",\"DBA\",\"DBA\",\"DBA\",\"DBA\",\"DBA\",\"DBA\",\"DBA\",\"DBA\",\"DBA\",\"DBA\",\"DBA\",\"DBA\",\"DBA\",\"DBA\",\"DBA\",\"DBA\",\"DBA\",\"DBA\",\"DBA\",\"DBA\",\"DBA\",\"DBA\",\"DBA\",\"DBA\",\"DBA\",\"DBA\",\"DBA\",\"DBA\",\"DBA\",\"DBA\",\"DBA\",\"DBA\",\"DBA\",\"DBA\",\"DBA\",\"DBA\",\"DBA\",\"DBA\",\"DBA\",\"DBA\",\"DBA\",\"DBA\",\"DBA\",\"DBA\",\"DBA\",\"DBA\",\"DBA\",\"DBA\",\"DBA\",\"DBA\",\"DBA\",\"DBA\",\"DBA\",\"DBA\",\"DBA\",\"DBA\",\"DBA\",\"DBA\",\"DBA\",\"DBA\",\"DBA\",\"DBA\",\"DBA\",\"DBA\",\"DBA\",\"DBA\",\"DBA\",\"DBA\",\"DBA\",\"DBA\",\"DBA\",\"DBA\",\"DBA\",\"DBA\",\"DBA\",\"DBA\",\"DBA\",\"DBA\",\"DBA\",\"DBA\",\"DBA\",\"DBA\",\"DBA\",\"DBA\",\"DBA\",\"DBA\",\"DBA\",\"DBA\",\"DBA\",\"DBA\",\"DBA\",\"DBA\",\"DBA\",\"DBA\",\"DBA\",\"DBA\",\"DBA\",\"DBA\",\"DBA\",\"DBA\",\"DBA\",\"DBA\",\"DBA\",\"DBA\",\"DBA\",\"DBA\",\"DBA\",\"DBA\",\"DBA\",\"DBA\",\"DBA\",\"DBA\",\"DBA\",\"DBA\",\"DBA\",\"DBA\",\"DBA\",\"DBA\",\"DBA\",\"DBA\",\"DBA\",\"DBA\",\"DBA\",\"DBA\",\"DBA\",\"DBA\",\"DBA\",\"DBA\",\"DBA\",\"DBA\",\"DBA\",\"DBA\",\"DBA\",\"DBA\",\"DBA\",\"DBA\",\"DBA\",\"DBA\",\"DBA\",\"DBA\",\"DBA\",\"DBA\",\"DBA\",\"DBA\",\"DBA\",\"DBA\",\"DBA\",\"DBA\",\"DBA\",\"DBA\",\"DBA\",\"DBA\",\"DBA\",\"DBA\",\"DBA\",\"DBA\",\"DBA\",\"DBA\",\"DBA\",\"DBA\",\"DBA\",\"DBA\",\"DBA\",\"DBA\",\"DBA\",\"DBA\",\"DBA\",\"DBA\",\"DBA\",\"DBA\",\"DBA\",\"DBA\",\"DBA\",\"DBA\",\"DBA\",\"DBA\",\"DBA\",\"DBA\",\"DBA\",\"DBA\",\"DBA\",\"DBA\",\"DBA\",\"DBA\",\"DBA\",\"DBA\",\"DBA\",\"DBA\",\"DBA\",\"DBA\",\"DBA\",\"DBA\",\"DBA\",\"DBA\",\"DBA\",\"DBA\",\"DBA\",\"DBA\",\"DBA\",\"DBA\",\"DBA\",\"DBA\",\"DBA\",\"DBA\",\"DBA\",\"DBA\",\"DBA\",\"DBA\",\"DBA\",\"DBA\",\"DBA\",\"DBA\",\"DBA\",\"DBA\",\"DBA\",\"DBA\",\"DBA\",\"DBA\",\"DBA\",\"DBA\",\"DBA\",\"DBA\",\"DBA\",\"DBA\",\"DBA\",\"DBA\",\"DBA\",\"DBA\",\"DBA\",\"DBA\",\"DBA\",\"DBA\",\"DBA\",\"DBA\",\"DBA\",\"DBA\",\"DBA\",\"DBA\",\"DBA\",\"DBA\",\"DBA\",\"DBA\",\"DBA\",\"DBA\",\"DBA\",\"DBA\",\"DBA\",\"DBA\",\"DBA\",\"DBA\",\"DBA\",\"DBA\",\"DBA\",\"DBA\",\"DBA\",\"DBA\",\"DBA\",\"DBA\",\"DBA\",\"DBA\",\"DBA\",\"DBA\",\"DBA\",\"DBA\",\"DBA\",\"DBA\",\"DBA\",\"DBA\",\"DBA\",\"DBA\",\"DBA\",\"DBA\",\"DBA\",\"DBA\",\"DBA\",\"DBA\",\"DBA\",\"DBA\",\"DBA\",\"DBA\",\"DBA\",\"DBA\",\"DBA\",\"DBA\",\"DBA\",\"DBA\",\"DBA\",\"DBA\",\"DBA\",\"DBA\",\"DBA\",\"DBA\",\"DBA\",\"DBA\",\"DBA\",\"DBA\",\"DBA\",\"DBA\",\"DBA\",\"DBA\",\"DBA\",\"DBA\",\"DBA\",\"DBA\",\"DBA\",\"DBA\",\"DBA\",\"DBA\",\"DBA\",\"DBA\",\"DBA\",\"DBA\"],\"index\":{\"__ndarray__\":\"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\",\"dtype\":\"float64\",\"order\":\"little\",\"shape\":[755]},\"value\":{\"__ndarray__\":\"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\",\"dtype\":\"float64\",\"order\":\"little\",\"shape\":[755]}},\"selected\":{\"id\":\"1045\"},\"selection_policy\":{\"id\":\"1071\"}},\"id\":\"1044\",\"type\":\"ColumnDataSource\"},{\"attributes\":{\"data\":{\"Variable\":[\"SPY\",\"SPY\",\"SPY\",\"SPY\",\"SPY\",\"SPY\",\"SPY\",\"SPY\",\"SPY\",\"SPY\",\"SPY\",\"SPY\",\"SPY\",\"SPY\",\"SPY\",\"SPY\",\"SPY\",\"SPY\",\"SPY\",\"SPY\",\"SPY\",\"SPY\",\"SPY\",\"SPY\",\"SPY\",\"SPY\",\"SPY\",\"SPY\",\"SPY\",\"SPY\",\"SPY\",\"SPY\",\"SPY\",\"SPY\",\"SPY\",\"SPY\",\"SPY\",\"SPY\",\"SPY\",\"SPY\",\"SPY\",\"SPY\",\"SPY\",\"SPY\",\"SPY\",\"SPY\",\"SPY\",\"SPY\",\"SPY\",\"SPY\",\"SPY\",\"SPY\",\"SPY\",\"SPY\",\"SPY\",\"SPY\",\"SPY\",\"SPY\",\"SPY\",\"SPY\",\"SPY\",\"SPY\",\"SPY\",\"SPY\",\"SPY\",\"SPY\",\"SPY\",\"SPY\",\"SPY\",\"SPY\",\"SPY\",\"SPY\",\"SPY\",\"SPY\",\"SPY\",\"SPY\",\"SPY\",\"SPY\",\"SPY\",\"SPY\",\"SPY\",\"SPY\",\"SPY\",\"SPY\",\"SPY\",\"SPY\",\"SPY\",\"SPY\",\"SPY\",\"SPY\",\"SPY\",\"SPY\",\"SPY\",\"SPY\",\"SPY\",\"SPY\",\"SPY\",\"SPY\",\"SPY\",\"SPY\",\"SPY\",\"SPY\",\"SPY\",\"SPY\",\"SPY\",\"SPY\",\"SPY\",\"SPY\",\"SPY\",\"SPY\",\"SPY\",\"SPY\",\"SPY\",\"SPY\",\"SPY\",\"SPY\",\"SPY\",\"SPY\",\"SPY\",\"SPY\",\"SPY\",\"SPY\",\"SPY\",\"SPY\",\"SPY\",\"SPY\",\"SPY\",\"SPY\",\"SPY\",\"SPY\",\"SPY\",\"SPY\",\"SPY\",\"SPY\",\"SPY\",\"SPY\",\"SPY\",\"SPY\",\"SPY\",\"SPY\",\"SPY\",\"SPY\",\"SPY\",\"SPY\",\"SPY\",\"SPY\",\"SPY\",\"SPY\",\"SPY\",\"SPY\",\"SPY\",\"SPY\",\"SPY\",\"SPY\",\"SPY\",\"SPY\",\"SPY\",\"SPY\",\"SPY\",\"SPY\",\"SPY\",\"SPY\",\"SPY\",\"SPY\",\"SPY\",\"SPY\",\"SPY\",\"SPY\",\"SPY\",\"SPY\",\"SPY\",\"SPY\",\"SPY\",\"SPY\",\"SPY\",\"SPY\",\"SPY\",\"SPY\",\"SPY\",\"SPY\",\"SPY\",\"SPY\",\"SPY\",\"SPY\",\"SPY\",\"SPY\",\"SPY\",\"SPY\",\"SPY\",\"SPY\",\"SPY\",\"SPY\",\"SPY\",\"SPY\",\"SPY\",\"SPY\",\"SPY\",\"SPY\",\"SPY\",\"SPY\",\"SPY\",\"SPY\",\"SPY\",\"SPY\",\"SPY\",\"SPY\",\"SPY\",\"SPY\",\"SPY\",\"SPY\",\"SPY\",\"SPY\",\"SPY\",\"SPY\",\"SPY\",\"SPY\",\"SPY\",\"SPY\",\"SPY\",\"SPY\",\"SPY\",\"SPY\",\"SPY\",\"SPY\",\"SPY\",\"SPY\",\"SPY\",\"SPY\",\"SPY\",\"SPY\",\"SPY\",\"SPY\",\"SPY\",\"SPY\",\"SPY\",\"SPY\",\"SPY\",\"SPY\",\"SPY\",\"SPY\",\"SPY\",\"SPY\",\"SPY\",\"SPY\",\"SPY\",\"SPY\",\"SPY\",\"SPY\",\"SPY\",\"SPY\",\"SPY\",\"SPY\",\"SPY\",\"SPY\",\"SPY\",\"SPY\",\"SPY\",\"SPY\",\"SPY\",\"SPY\",\"SPY\",\"SPY\",\"SPY\",\"SPY\",\"SPY\",\"SPY\",\"SPY\",\"SPY\",\"SPY\",\"SPY\",\"SPY\",\"SPY\",\"SPY\",\"SPY\",\"SPY\",\"SPY\",\"SPY\",\"SPY\",\"SPY\",\"SPY\",\"SPY\",\"SPY\",\"SPY\",\"SPY\",\"SPY\",\"SPY\",\"SPY\",\"SPY\",\"SPY\",\"SPY\",\"SPY\",\"SPY\",\"SPY\",\"SPY\",\"SPY\",\"SPY\",\"SPY\",\"SPY\",\"SPY\",\"SPY\",\"SPY\",\"SPY\",\"SPY\",\"SPY\",\"SPY\",\"SPY\",\"SPY\",\"SPY\",\"SPY\",\"SPY\",\"SPY\",\"SPY\",\"SPY\",\"SPY\",\"SPY\",\"SPY\",\"SPY\",\"SPY\",\"SPY\",\"SPY\",\"SPY\",\"SPY\",\"SPY\",\"SPY\",\"SPY\",\"SPY\",\"SPY\",\"SPY\",\"SPY\",\"SPY\",\"SPY\",\"SPY\",\"SPY\",\"SPY\",\"SPY\",\"SPY\",\"SPY\",\"SPY\",\"SPY\",\"SPY\",\"SPY\",\"SPY\",\"SPY\",\"SPY\",\"SPY\",\"SPY\",\"SPY\",\"SPY\",\"SPY\",\"SPY\",\"SPY\",\"SPY\",\"SPY\",\"SPY\",\"SPY\",\"SPY\",\"SPY\",\"SPY\",\"SPY\",\"SPY\",\"SPY\",\"SPY\",\"SPY\",\"SPY\",\"SPY\",\"SPY\",\"SPY\",\"SPY\",\"SPY\",\"SPY\",\"SPY\",\"SPY\",\"SPY\",\"SPY\",\"SPY\",\"SPY\",\"SPY\",\"SPY\",\"SPY\",\"SPY\",\"SPY\",\"SPY\",\"SPY\",\"SPY\",\"SPY\",\"SPY\",\"SPY\",\"SPY\",\"SPY\",\"SPY\",\"SPY\",\"SPY\",\"SPY\",\"SPY\",\"SPY\",\"SPY\",\"SPY\",\"SPY\",\"SPY\",\"SPY\",\"SPY\",\"SPY\",\"SPY\",\"SPY\",\"SPY\",\"SPY\",\"SPY\",\"SPY\",\"SPY\",\"SPY\",\"SPY\",\"SPY\",\"SPY\",\"SPY\",\"SPY\",\"SPY\",\"SPY\",\"SPY\",\"SPY\",\"SPY\",\"SPY\",\"SPY\",\"SPY\",\"SPY\",\"SPY\",\"SPY\",\"SPY\",\"SPY\",\"SPY\",\"SPY\",\"SPY\",\"SPY\",\"SPY\",\"SPY\",\"SPY\",\"SPY\",\"SPY\",\"SPY\",\"SPY\",\"SPY\",\"SPY\",\"SPY\",\"SPY\",\"SPY\",\"SPY\",\"SPY\",\"SPY\",\"SPY\",\"SPY\",\"SPY\",\"SPY\",\"SPY\",\"SPY\",\"SPY\",\"SPY\",\"SPY\",\"SPY\",\"SPY\",\"SPY\",\"SPY\",\"SPY\",\"SPY\",\"SPY\",\"SPY\",\"SPY\",\"SPY\",\"SPY\",\"SPY\",\"SPY\",\"SPY\",\"SPY\",\"SPY\",\"SPY\",\"SPY\",\"SPY\",\"SPY\",\"SPY\",\"SPY\",\"SPY\",\"SPY\",\"SPY\",\"SPY\",\"SPY\",\"SPY\",\"SPY\",\"SPY\",\"SPY\",\"SPY\",\"SPY\",\"SPY\",\"SPY\",\"SPY\",\"SPY\",\"SPY\",\"SPY\",\"SPY\",\"SPY\",\"SPY\",\"SPY\",\"SPY\",\"SPY\",\"SPY\",\"SPY\",\"SPY\",\"SPY\",\"SPY\",\"SPY\",\"SPY\",\"SPY\",\"SPY\",\"SPY\",\"SPY\",\"SPY\",\"SPY\",\"SPY\",\"SPY\",\"SPY\",\"SPY\",\"SPY\",\"SPY\",\"SPY\",\"SPY\",\"SPY\",\"SPY\",\"SPY\",\"SPY\",\"SPY\",\"SPY\",\"SPY\",\"SPY\",\"SPY\",\"SPY\",\"SPY\",\"SPY\",\"SPY\",\"SPY\",\"SPY\",\"SPY\",\"SPY\",\"SPY\",\"SPY\",\"SPY\",\"SPY\",\"SPY\",\"SPY\",\"SPY\",\"SPY\",\"SPY\",\"SPY\",\"SPY\",\"SPY\",\"SPY\",\"SPY\",\"SPY\",\"SPY\",\"SPY\",\"SPY\",\"SPY\",\"SPY\",\"SPY\",\"SPY\",\"SPY\",\"SPY\",\"SPY\",\"SPY\",\"SPY\",\"SPY\",\"SPY\",\"SPY\",\"SPY\",\"SPY\",\"SPY\",\"SPY\",\"SPY\",\"SPY\",\"SPY\",\"SPY\",\"SPY\",\"SPY\",\"SPY\",\"SPY\",\"SPY\",\"SPY\",\"SPY\",\"SPY\",\"SPY\",\"SPY\",\"SPY\",\"SPY\",\"SPY\",\"SPY\",\"SPY\",\"SPY\",\"SPY\",\"SPY\",\"SPY\",\"SPY\",\"SPY\",\"SPY\",\"SPY\",\"SPY\",\"SPY\",\"SPY\",\"SPY\",\"SPY\",\"SPY\",\"SPY\",\"SPY\",\"SPY\",\"SPY\",\"SPY\",\"SPY\",\"SPY\",\"SPY\",\"SPY\",\"SPY\",\"SPY\",\"SPY\",\"SPY\",\"SPY\",\"SPY\",\"SPY\",\"SPY\",\"SPY\",\"SPY\",\"SPY\",\"SPY\",\"SPY\",\"SPY\",\"SPY\",\"SPY\",\"SPY\",\"SPY\",\"SPY\",\"SPY\",\"SPY\",\"SPY\",\"SPY\",\"SPY\",\"SPY\",\"SPY\",\"SPY\",\"SPY\",\"SPY\",\"SPY\",\"SPY\",\"SPY\",\"SPY\",\"SPY\",\"SPY\",\"SPY\",\"SPY\",\"SPY\",\"SPY\",\"SPY\",\"SPY\",\"SPY\",\"SPY\",\"SPY\",\"SPY\",\"SPY\",\"SPY\",\"SPY\",\"SPY\",\"SPY\",\"SPY\",\"SPY\",\"SPY\",\"SPY\",\"SPY\",\"SPY\",\"SPY\",\"SPY\",\"SPY\",\"SPY\",\"SPY\",\"SPY\",\"SPY\",\"SPY\",\"SPY\",\"SPY\",\"SPY\",\"SPY\",\"SPY\",\"SPY\",\"SPY\",\"SPY\",\"SPY\",\"SPY\",\"SPY\",\"SPY\",\"SPY\",\"SPY\",\"SPY\",\"SPY\",\"SPY\",\"SPY\",\"SPY\",\"SPY\",\"SPY\",\"SPY\",\"SPY\",\"SPY\",\"SPY\",\"SPY\",\"SPY\",\"SPY\",\"SPY\",\"SPY\",\"SPY\",\"SPY\",\"SPY\",\"SPY\",\"SPY\",\"SPY\",\"SPY\",\"SPY\",\"SPY\",\"SPY\",\"SPY\",\"SPY\",\"SPY\",\"SPY\",\"SPY\",\"SPY\",\"SPY\",\"SPY\",\"SPY\",\"SPY\",\"SPY\",\"SPY\",\"SPY\",\"SPY\",\"SPY\",\"SPY\",\"SPY\",\"SPY\",\"SPY\",\"SPY\",\"SPY\",\"SPY\",\"SPY\",\"SPY\",\"SPY\",\"SPY\",\"SPY\",\"SPY\",\"SPY\",\"SPY\",\"SPY\",\"SPY\",\"SPY\",\"SPY\",\"SPY\",\"SPY\"],\"index\":{\"__ndarray__\":\"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\",\"dtype\":\"float64\",\"order\":\"little\",\"shape\":[755]},\"value\":{\"__ndarray__\":\"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\",\"dtype\":\"float64\",\"order\":\"little\",\"shape\":[755]}},\"selected\":{\"id\":\"1078\"},\"selection_policy\":{\"id\":\"1106\"}},\"id\":\"1077\",\"type\":\"ColumnDataSource\"},{\"attributes\":{\"label\":{\"value\":\"SPY\"},\"renderers\":[{\"id\":\"1083\"}]},\"id\":\"1109\",\"type\":\"LegendItem\"},{\"attributes\":{\"callback\":null,\"formatters\":{\"@{index}\":\"datetime\"},\"renderers\":[{\"id\":\"1050\"},{\"id\":\"1083\"}],\"tags\":[\"hv_created\"],\"tooltips\":[[\"Variable\",\"@{Variable}\"],[\"index\",\"@{index}{%F %T}\"],[\"value\",\"@{value}\"]]},\"id\":\"1006\",\"type\":\"HoverTool\"},{\"attributes\":{},\"id\":\"1040\",\"type\":\"AllLabels\"}],\"root_ids\":[\"1002\"]},\"title\":\"Bokeh Application\",\"version\":\"2.3.3\"}};\n",
       "    var render_items = [{\"docid\":\"8e001f2f-4d13-4f9f-bfc7-4f27ab9d72c9\",\"root_ids\":[\"1002\"],\"roots\":{\"1002\":\"72410d07-90b3-45f8-9f87-caa488588c39\"}}];\n",
       "    root.Bokeh.embed.embed_items_notebook(docs_json, render_items);\n",
       "  }\n",
       "  if (root.Bokeh !== undefined && root.Bokeh.Panel !== undefined) {\n",
       "    embed_document(root);\n",
       "  } else {\n",
       "    var attempts = 0;\n",
       "    var timer = setInterval(function(root) {\n",
       "      if (root.Bokeh !== undefined && root.Bokeh.Panel !== undefined) {\n",
       "        clearInterval(timer);\n",
       "        embed_document(root);\n",
       "      } else if (document.readyState == \"complete\") {\n",
       "        attempts++;\n",
       "        if (attempts > 200) {\n",
       "          clearInterval(timer);\n",
       "          console.log(\"Bokeh: ERROR: Unable to run BokehJS code because BokehJS library is missing\");\n",
       "        }\n",
       "      }\n",
       "    }, 25, root)\n",
       "  }\n",
       "})(window);</script>"
      ],
      "text/plain": [
       ":NdOverlay   [Variable]\n",
       "   :Curve   [index]   (value)"
      ]
     },
     "execution_count": 389,
     "metadata": {
      "application/vnd.holoviews_exec.v0+json": {
       "id": "1002"
      }
     },
     "output_type": "execute_result"
    }
   ],
   "source": [
    "closing_prices.hvplot(rot=90, figsize=(15,7), title= \"Closing prices of DBA and SPY\")"
   ]
  },
  {
   "cell_type": "code",
   "execution_count": 358,
   "id": "c386b4a6",
   "metadata": {},
   "outputs": [
    {
     "data": {
      "text/html": [
       "<div>\n",
       "<style scoped>\n",
       "    .dataframe tbody tr th:only-of-type {\n",
       "        vertical-align: middle;\n",
       "    }\n",
       "\n",
       "    .dataframe tbody tr th {\n",
       "        vertical-align: top;\n",
       "    }\n",
       "\n",
       "    .dataframe thead th {\n",
       "        text-align: right;\n",
       "    }\n",
       "</style>\n",
       "<table border=\"1\" class=\"dataframe\">\n",
       "  <thead>\n",
       "    <tr style=\"text-align: right;\">\n",
       "      <th></th>\n",
       "      <th>DBA</th>\n",
       "      <th>SPY</th>\n",
       "    </tr>\n",
       "  </thead>\n",
       "  <tbody>\n",
       "    <tr>\n",
       "      <th>2021-11-18</th>\n",
       "      <td>-0.002987</td>\n",
       "      <td>0.003418</td>\n",
       "    </tr>\n",
       "    <tr>\n",
       "      <th>2021-11-19</th>\n",
       "      <td>0.001498</td>\n",
       "      <td>-0.001703</td>\n",
       "    </tr>\n",
       "    <tr>\n",
       "      <th>2021-11-22</th>\n",
       "      <td>0.004487</td>\n",
       "      <td>-0.002943</td>\n",
       "    </tr>\n",
       "    <tr>\n",
       "      <th>2021-11-23</th>\n",
       "      <td>0.007940</td>\n",
       "      <td>0.001540</td>\n",
       "    </tr>\n",
       "    <tr>\n",
       "      <th>2021-11-24</th>\n",
       "      <td>-0.001477</td>\n",
       "      <td>0.002392</td>\n",
       "    </tr>\n",
       "  </tbody>\n",
       "</table>\n",
       "</div>"
      ],
      "text/plain": [
       "                 DBA       SPY\n",
       "2021-11-18 -0.002987  0.003418\n",
       "2021-11-19  0.001498 -0.001703\n",
       "2021-11-22  0.004487 -0.002943\n",
       "2021-11-23  0.007940  0.001540\n",
       "2021-11-24 -0.001477  0.002392"
      ]
     },
     "execution_count": 358,
     "metadata": {},
     "output_type": "execute_result"
    }
   ],
   "source": [
    "#Calculating daily returns\n",
    "daily_returns= closing_prices.pct_change().dropna()\n",
    "daily_returns.tail()"
   ]
  },
  {
   "cell_type": "code",
   "execution_count": 359,
   "id": "61a6999d",
   "metadata": {},
   "outputs": [
    {
     "data": {
      "text/plain": [
       "6.885192724901288e-05"
      ]
     },
     "execution_count": 359,
     "metadata": {},
     "output_type": "execute_result"
    }
   ],
   "source": [
    "#Calculating \"DBA\" variance\n",
    "dba_variance= daily_returns[\"DBA\"].var()\n",
    "dba_variance"
   ]
  },
  {
   "cell_type": "code",
   "execution_count": 360,
   "id": "ac6a3b78",
   "metadata": {},
   "outputs": [
    {
     "data": {
      "text/plain": [
       "0.0002038225920366035"
      ]
     },
     "execution_count": 360,
     "metadata": {},
     "output_type": "execute_result"
    }
   ],
   "source": [
    "# Calculating \"SPY\" variance\n",
    "spy_variance= daily_returns[\"SPY\"].var()\n",
    "spy_variance"
   ]
  },
  {
   "cell_type": "code",
   "execution_count": 361,
   "id": "bc11ca8b",
   "metadata": {},
   "outputs": [
    {
     "name": "stdout",
     "output_type": "stream",
     "text": [
      " 0.00003537\n"
     ]
    }
   ],
   "source": [
    "# Calculating covariance between \"DBA\" and \"SPY\"\n",
    "covariance= daily_returns[\"DBA\"].cov(daily_returns[\"SPY\"])\n",
    "print(f\"{covariance: .8f}\")\n"
   ]
  },
  {
   "cell_type": "code",
   "execution_count": 362,
   "id": "ae5eb60c",
   "metadata": {},
   "outputs": [
    {
     "data": {
      "text/plain": [
       "0.1735559855742951"
      ]
     },
     "execution_count": 362,
     "metadata": {},
     "output_type": "execute_result"
    }
   ],
   "source": [
    "# Calculating beta for DBA\n",
    "dba_beta= covariance/ spy_variance\n",
    "dba_beta"
   ]
  },
  {
   "cell_type": "markdown",
   "id": "2c8215a0",
   "metadata": {},
   "source": [
    "Based on the above metrics we can see that \"DBA\" fund which for the purpose of this analysis\n",
    "we can treat as a proxy for the farmland has got positive variance with the overall market (\"SPY\"). That means that its prices tend to move in the same direction. However, the \"DBA\" beta value tells us that the change in the asset's return value will likely be less than that of the market. That's what makes investing in farmland in a great hedge against the risks of overall market.\n"
   ]
  },
  {
   "cell_type": "markdown",
   "id": "4b9e0935",
   "metadata": {},
   "source": [
    "# DBA stock price prediction using LSTM"
   ]
  },
  {
   "cell_type": "code",
   "execution_count": 363,
   "id": "e7f6552b",
   "metadata": {},
   "outputs": [
    {
     "data": {
      "text/html": [
       "<div>\n",
       "<style scoped>\n",
       "    .dataframe tbody tr th:only-of-type {\n",
       "        vertical-align: middle;\n",
       "    }\n",
       "\n",
       "    .dataframe tbody tr th {\n",
       "        vertical-align: top;\n",
       "    }\n",
       "\n",
       "    .dataframe thead tr th {\n",
       "        text-align: left;\n",
       "    }\n",
       "\n",
       "    .dataframe thead tr:last-of-type th {\n",
       "        text-align: right;\n",
       "    }\n",
       "</style>\n",
       "<table border=\"1\" class=\"dataframe\">\n",
       "  <thead>\n",
       "    <tr>\n",
       "      <th></th>\n",
       "      <th colspan=\"5\" halign=\"left\">DBA</th>\n",
       "      <th colspan=\"5\" halign=\"left\">SPY</th>\n",
       "    </tr>\n",
       "    <tr>\n",
       "      <th></th>\n",
       "      <th>open</th>\n",
       "      <th>high</th>\n",
       "      <th>low</th>\n",
       "      <th>close</th>\n",
       "      <th>volume</th>\n",
       "      <th>open</th>\n",
       "      <th>high</th>\n",
       "      <th>low</th>\n",
       "      <th>close</th>\n",
       "      <th>volume</th>\n",
       "    </tr>\n",
       "    <tr>\n",
       "      <th>time</th>\n",
       "      <th></th>\n",
       "      <th></th>\n",
       "      <th></th>\n",
       "      <th></th>\n",
       "      <th></th>\n",
       "      <th></th>\n",
       "      <th></th>\n",
       "      <th></th>\n",
       "      <th></th>\n",
       "      <th></th>\n",
       "    </tr>\n",
       "  </thead>\n",
       "  <tbody>\n",
       "    <tr>\n",
       "      <th>2018-11-27 00:00:00-05:00</th>\n",
       "      <td>17.14</td>\n",
       "      <td>17.15</td>\n",
       "      <td>17.0600</td>\n",
       "      <td>17.10</td>\n",
       "      <td>618689</td>\n",
       "      <td>266.34</td>\n",
       "      <td>268.37</td>\n",
       "      <td>265.6600</td>\n",
       "      <td>268.34</td>\n",
       "      <td>65180166</td>\n",
       "    </tr>\n",
       "    <tr>\n",
       "      <th>2018-11-28 00:00:00-05:00</th>\n",
       "      <td>17.19</td>\n",
       "      <td>17.25</td>\n",
       "      <td>17.1502</td>\n",
       "      <td>17.25</td>\n",
       "      <td>331455</td>\n",
       "      <td>269.60</td>\n",
       "      <td>275.10</td>\n",
       "      <td>268.3272</td>\n",
       "      <td>274.50</td>\n",
       "      <td>111668695</td>\n",
       "    </tr>\n",
       "    <tr>\n",
       "      <th>2018-11-29 00:00:00-05:00</th>\n",
       "      <td>17.26</td>\n",
       "      <td>17.35</td>\n",
       "      <td>17.2400</td>\n",
       "      <td>17.27</td>\n",
       "      <td>556825</td>\n",
       "      <td>273.71</td>\n",
       "      <td>275.55</td>\n",
       "      <td>272.4300</td>\n",
       "      <td>273.93</td>\n",
       "      <td>69394238</td>\n",
       "    </tr>\n",
       "    <tr>\n",
       "      <th>2018-11-30 00:00:00-05:00</th>\n",
       "      <td>17.24</td>\n",
       "      <td>17.32</td>\n",
       "      <td>17.2100</td>\n",
       "      <td>17.29</td>\n",
       "      <td>390435</td>\n",
       "      <td>273.81</td>\n",
       "      <td>279.11</td>\n",
       "      <td>273.4500</td>\n",
       "      <td>275.78</td>\n",
       "      <td>80116769</td>\n",
       "    </tr>\n",
       "    <tr>\n",
       "      <th>2018-12-03 00:00:00-05:00</th>\n",
       "      <td>17.42</td>\n",
       "      <td>17.51</td>\n",
       "      <td>17.3300</td>\n",
       "      <td>17.36</td>\n",
       "      <td>1677463</td>\n",
       "      <td>280.28</td>\n",
       "      <td>280.40</td>\n",
       "      <td>277.5050</td>\n",
       "      <td>279.25</td>\n",
       "      <td>86242190</td>\n",
       "    </tr>\n",
       "  </tbody>\n",
       "</table>\n",
       "</div>"
      ],
      "text/plain": [
       "                             DBA                                     SPY  \\\n",
       "                            open   high      low  close   volume    open   \n",
       "time                                                                       \n",
       "2018-11-27 00:00:00-05:00  17.14  17.15  17.0600  17.10   618689  266.34   \n",
       "2018-11-28 00:00:00-05:00  17.19  17.25  17.1502  17.25   331455  269.60   \n",
       "2018-11-29 00:00:00-05:00  17.26  17.35  17.2400  17.27   556825  273.71   \n",
       "2018-11-30 00:00:00-05:00  17.24  17.32  17.2100  17.29   390435  273.81   \n",
       "2018-12-03 00:00:00-05:00  17.42  17.51  17.3300  17.36  1677463  280.28   \n",
       "\n",
       "                                                                \n",
       "                             high       low   close     volume  \n",
       "time                                                            \n",
       "2018-11-27 00:00:00-05:00  268.37  265.6600  268.34   65180166  \n",
       "2018-11-28 00:00:00-05:00  275.10  268.3272  274.50  111668695  \n",
       "2018-11-29 00:00:00-05:00  275.55  272.4300  273.93   69394238  \n",
       "2018-11-30 00:00:00-05:00  279.11  273.4500  275.78   80116769  \n",
       "2018-12-03 00:00:00-05:00  280.40  277.5050  279.25   86242190  "
      ]
     },
     "execution_count": 363,
     "metadata": {},
     "output_type": "execute_result"
    }
   ],
   "source": [
    "alpaca_df.head()"
   ]
  },
  {
   "cell_type": "code",
   "execution_count": 364,
   "id": "e3d0566b",
   "metadata": {},
   "outputs": [
    {
     "data": {
      "text/html": [
       "<div>\n",
       "<style scoped>\n",
       "    .dataframe tbody tr th:only-of-type {\n",
       "        vertical-align: middle;\n",
       "    }\n",
       "\n",
       "    .dataframe tbody tr th {\n",
       "        vertical-align: top;\n",
       "    }\n",
       "\n",
       "    .dataframe thead th {\n",
       "        text-align: right;\n",
       "    }\n",
       "</style>\n",
       "<table border=\"1\" class=\"dataframe\">\n",
       "  <thead>\n",
       "    <tr style=\"text-align: right;\">\n",
       "      <th></th>\n",
       "      <th>open</th>\n",
       "      <th>high</th>\n",
       "      <th>low</th>\n",
       "      <th>close</th>\n",
       "      <th>volume</th>\n",
       "    </tr>\n",
       "  </thead>\n",
       "  <tbody>\n",
       "    <tr>\n",
       "      <th>2018-11-27</th>\n",
       "      <td>17.14</td>\n",
       "      <td>17.15</td>\n",
       "      <td>17.0600</td>\n",
       "      <td>17.10</td>\n",
       "      <td>618689</td>\n",
       "    </tr>\n",
       "    <tr>\n",
       "      <th>2018-11-28</th>\n",
       "      <td>17.19</td>\n",
       "      <td>17.25</td>\n",
       "      <td>17.1502</td>\n",
       "      <td>17.25</td>\n",
       "      <td>331455</td>\n",
       "    </tr>\n",
       "    <tr>\n",
       "      <th>2018-11-29</th>\n",
       "      <td>17.26</td>\n",
       "      <td>17.35</td>\n",
       "      <td>17.2400</td>\n",
       "      <td>17.27</td>\n",
       "      <td>556825</td>\n",
       "    </tr>\n",
       "    <tr>\n",
       "      <th>2018-11-30</th>\n",
       "      <td>17.24</td>\n",
       "      <td>17.32</td>\n",
       "      <td>17.2100</td>\n",
       "      <td>17.29</td>\n",
       "      <td>390435</td>\n",
       "    </tr>\n",
       "    <tr>\n",
       "      <th>2018-12-03</th>\n",
       "      <td>17.42</td>\n",
       "      <td>17.51</td>\n",
       "      <td>17.3300</td>\n",
       "      <td>17.36</td>\n",
       "      <td>1677463</td>\n",
       "    </tr>\n",
       "  </tbody>\n",
       "</table>\n",
       "</div>"
      ],
      "text/plain": [
       "             open   high      low  close   volume\n",
       "2018-11-27  17.14  17.15  17.0600  17.10   618689\n",
       "2018-11-28  17.19  17.25  17.1502  17.25   331455\n",
       "2018-11-29  17.26  17.35  17.2400  17.27   556825\n",
       "2018-11-30  17.24  17.32  17.2100  17.29   390435\n",
       "2018-12-03  17.42  17.51  17.3300  17.36  1677463"
      ]
     },
     "execution_count": 364,
     "metadata": {},
     "output_type": "execute_result"
    }
   ],
   "source": [
    "dba_df= alpaca_df[\"DBA\"]\n",
    "dba_df.index=dba_df.index.date\n",
    "dba_df.head()"
   ]
  },
  {
   "cell_type": "code",
   "execution_count": 366,
   "id": "36f08017",
   "metadata": {},
   "outputs": [
    {
     "data": {
      "text/plain": [
       "(755, 5)"
      ]
     },
     "execution_count": 366,
     "metadata": {},
     "output_type": "execute_result"
    }
   ],
   "source": [
    "dba_df.shape"
   ]
  },
  {
   "cell_type": "code",
   "execution_count": 367,
   "id": "b93e74dc",
   "metadata": {},
   "outputs": [
    {
     "data": {
      "text/plain": [
       "<matplotlib.axes._subplots.AxesSubplot at 0x7fa8d1202f90>"
      ]
     },
     "execution_count": 367,
     "metadata": {},
     "output_type": "execute_result"
    },
    {
     "data": {
      "image/png": "[encoded data removed]",
      "text/plain": [
       "<Figure size 1080x504 with 1 Axes>"
      ]
     },
     "metadata": {},
     "output_type": "display_data"
    }
   ],
   "source": [
    "\n",
    "dba_df[\"close\"].plot(figsize= (15,7),title= \"DBA close price history\", xlabel= \"Date\", ylabel= \"Close price USD ($)\")"
   ]
  },
  {
   "cell_type": "code",
   "execution_count": 368,
   "id": "55132b5b",
   "metadata": {},
   "outputs": [
    {
     "data": {
      "text/plain": [
       "604"
      ]
     },
     "execution_count": 368,
     "metadata": {},
     "output_type": "execute_result"
    }
   ],
   "source": [
    "# Create a new DF with only a close column\n",
    "data= dba_df.filter([\"close\"])\n",
    "# Convert df to a numpy array\n",
    "dataset= data.values\n",
    "# Get the number of rows to train the model on\n",
    "training_data_length= math.ceil(len(dataset) * .8)\n",
    "training_data_length"
   ]
  },
  {
   "cell_type": "code",
   "execution_count": 369,
   "id": "3d4b21cb",
   "metadata": {},
   "outputs": [
    {
     "data": {
      "text/plain": [
       "array([[0.55042017],\n",
       "       [0.57142857],\n",
       "       [0.57422969],\n",
       "       [0.57703081],\n",
       "       [0.58683473]])"
      ]
     },
     "execution_count": 369,
     "metadata": {},
     "output_type": "execute_result"
    }
   ],
   "source": [
    "#Scale the data\n",
    "scaler= MinMaxScaler(feature_range=(0,1))\n",
    "scaled_data= scaler.fit_transform(dataset)\n",
    "scaled_data[:5]\n"
   ]
  },
  {
   "cell_type": "code",
   "execution_count": 370,
   "id": "3a55a7aa",
   "metadata": {},
   "outputs": [
    {
     "name": "stdout",
     "output_type": "stream",
     "text": [
      "[array([0.55042017, 0.57142857, 0.57422969, 0.57703081, 0.58683473,\n",
      "       0.57703081, 0.57142857, 0.59243697, 0.58403361, 0.57142857,\n",
      "       0.58123249, 0.5952381 , 0.58403361, 0.56582633, 0.56862745,\n",
      "       0.56022409, 0.55602241, 0.53641457, 0.52871148, 0.53221289,\n",
      "       0.52661064, 0.53571429, 0.5280112 , 0.52310924, 0.53361345,\n",
      "       0.53219888, 0.56092437, 0.57422969, 0.57843137, 0.56092437,\n",
      "       0.56862745, 0.55742297, 0.54761905, 0.55112045, 0.56022409,\n",
      "       0.5722409 , 0.55322129, 0.56022409, 0.56092437, 0.54620448,\n",
      "       0.54621849, 0.53871148, 0.53571429, 0.52731092, 0.52661064,\n",
      "       0.55112045, 0.54588235, 0.54901961, 0.52731092, 0.51470588,\n",
      "       0.50770308, 0.51929972, 0.51820728, 0.49719888, 0.51820728,\n",
      "       0.50560224, 0.4929972 , 0.49859944, 0.50280112, 0.47478992])]\n",
      "[0.470588235294118]\n",
      "\n"
     ]
    }
   ],
   "source": [
    "# Create the training dataset\n",
    "# Create the scaled training data set\n",
    "train_data= scaled_data[0:training_data_length,:]\n",
    "# Split the data into X_train and y_train\n",
    "X_train=[]\n",
    "y_train=[]\n",
    "\n",
    "for i in range (60, len(train_data)):\n",
    "    X_train.append(train_data[i - 60:i,0])\n",
    "    y_train.append(train_data[i,0])\n",
    "    if i<= 60:\n",
    "        print(X_train)\n",
    "        print(y_train)\n",
    "        print()"
   ]
  },
  {
   "cell_type": "code",
   "execution_count": 371,
   "id": "f65a4ab4",
   "metadata": {},
   "outputs": [],
   "source": [
    "# Convert the X_train and y_train to numpy array \n",
    "X_train, y_train= np.array(X_train), np.array(y_train)"
   ]
  },
  {
   "cell_type": "code",
   "execution_count": 372,
   "id": "27bd0f60",
   "metadata": {},
   "outputs": [
    {
     "data": {
      "text/plain": [
       "(544, 60, 1)"
      ]
     },
     "execution_count": 372,
     "metadata": {},
     "output_type": "execute_result"
    }
   ],
   "source": [
    "# Reshape the data\n",
    "X_train= np.reshape(X_train,(X_train.shape[0],X_train.shape[1],1))\n",
    "X_train.shape"
   ]
  },
  {
   "cell_type": "code",
   "execution_count": 373,
   "id": "688eefa0",
   "metadata": {},
   "outputs": [],
   "source": [
    "# Build the LSTM model\n",
    "model = Sequential()\n",
    "model.add(LSTM(50, return_sequences=True, input_shape=(X_train.shape[1],1)))\n",
    "model.add(LSTM(25, return_sequences= False))\n",
    "model.add(Dense(25))\n",
    "model.add(Dense(1))"
   ]
  },
  {
   "cell_type": "code",
   "execution_count": 375,
   "id": "9823c644",
   "metadata": {},
   "outputs": [],
   "source": [
    "# Compiling the model\n",
    "model.compile(optimizer=\"adam\", loss= \"mean_squared_error\")"
   ]
  },
  {
   "cell_type": "code",
   "execution_count": 376,
   "id": "2c72ea70",
   "metadata": {},
   "outputs": [
    {
     "name": "stdout",
     "output_type": "stream",
     "text": [
      "Epoch 1/50\n",
      "544/544 [==============================] - 16s 25ms/step - loss: 0.0035\n",
      "Epoch 2/50\n",
      "544/544 [==============================] - 15s 27ms/step - loss: 0.0014\n",
      "Epoch 3/50\n",
      "544/544 [==============================] - 15s 27ms/step - loss: 0.0012\n",
      "Epoch 4/50\n",
      "544/544 [==============================] - 15s 28ms/step - loss: 0.0010\n",
      "Epoch 5/50\n",
      "544/544 [==============================] - 15s 27ms/step - loss: 8.9922e-04\n",
      "Epoch 6/50\n",
      "544/544 [==============================] - 15s 27ms/step - loss: 7.6883e-04\n",
      "Epoch 7/50\n",
      "544/544 [==============================] - 14s 26ms/step - loss: 5.7830e-04\n",
      "Epoch 8/50\n",
      "544/544 [==============================] - 14s 26ms/step - loss: 5.1412e-04\n",
      "Epoch 9/50\n",
      "544/544 [==============================] - 14s 26ms/step - loss: 5.7551e-04\n",
      "Epoch 10/50\n",
      "544/544 [==============================] - 15s 27ms/step - loss: 4.9804e-04\n",
      "Epoch 11/50\n",
      "544/544 [==============================] - 14s 26ms/step - loss: 4.8035e-04\n",
      "Epoch 12/50\n",
      "544/544 [==============================] - 18s 33ms/step - loss: 5.1368e-04\n",
      "Epoch 13/50\n",
      "544/544 [==============================] - 16s 29ms/step - loss: 4.6873e-04\n",
      "Epoch 14/50\n",
      "544/544 [==============================] - 14s 25ms/step - loss: 4.7723e-04\n",
      "Epoch 15/50\n",
      "544/544 [==============================] - 14s 25ms/step - loss: 4.6917e-04\n",
      "Epoch 16/50\n",
      "544/544 [==============================] - 13s 25ms/step - loss: 4.5804e-04\n",
      "Epoch 17/50\n",
      "544/544 [==============================] - 13s 25ms/step - loss: 4.7210e-04\n",
      "Epoch 18/50\n",
      "544/544 [==============================] - 16s 29ms/step - loss: 5.8618e-04\n",
      "Epoch 19/50\n",
      "544/544 [==============================] - 15s 27ms/step - loss: 4.3742e-04\n",
      "Epoch 20/50\n",
      "544/544 [==============================] - 15s 27ms/step - loss: 4.2949e-04\n",
      "Epoch 21/50\n",
      "544/544 [==============================] - 15s 28ms/step - loss: 4.1833e-04\n",
      "Epoch 22/50\n",
      "544/544 [==============================] - 15s 27ms/step - loss: 4.3562e-04\n",
      "Epoch 23/50\n",
      "544/544 [==============================] - 15s 27ms/step - loss: 4.7134e-04\n",
      "Epoch 24/50\n",
      "544/544 [==============================] - 15s 28ms/step - loss: 4.7468e-04\n",
      "Epoch 25/50\n",
      "544/544 [==============================] - 15s 28ms/step - loss: 4.2746e-04\n",
      "Epoch 26/50\n",
      "544/544 [==============================] - 16s 29ms/step - loss: 4.3160e-04\n",
      "Epoch 27/50\n",
      "544/544 [==============================] - 15s 28ms/step - loss: 4.1697e-04\n",
      "Epoch 28/50\n",
      "544/544 [==============================] - 15s 28ms/step - loss: 4.4773e-04\n",
      "Epoch 29/50\n",
      "544/544 [==============================] - 15s 28ms/step - loss: 3.9429e-04\n",
      "Epoch 30/50\n",
      "544/544 [==============================] - 15s 28ms/step - loss: 4.1671e-04\n",
      "Epoch 31/50\n",
      "544/544 [==============================] - 15s 28ms/step - loss: 4.1730e-04\n",
      "Epoch 32/50\n",
      "544/544 [==============================] - 15s 28ms/step - loss: 4.3523e-04\n",
      "Epoch 33/50\n",
      "544/544 [==============================] - 15s 28ms/step - loss: 4.5554e-04\n",
      "Epoch 34/50\n",
      "544/544 [==============================] - 16s 29ms/step - loss: 4.1322e-04\n",
      "Epoch 35/50\n",
      "544/544 [==============================] - 15s 28ms/step - loss: 4.0643e-04\n",
      "Epoch 36/50\n",
      "544/544 [==============================] - 15s 28ms/step - loss: 3.8804e-04\n",
      "Epoch 37/50\n",
      "544/544 [==============================] - 15s 28ms/step - loss: 4.0162e-04\n",
      "Epoch 38/50\n",
      "544/544 [==============================] - 17s 31ms/step - loss: 4.2914e-04\n",
      "Epoch 39/50\n",
      "544/544 [==============================] - 17s 32ms/step - loss: 4.1790e-04\n",
      "Epoch 40/50\n",
      "544/544 [==============================] - 16s 30ms/step - loss: 4.2381e-04\n",
      "Epoch 41/50\n",
      "544/544 [==============================] - 16s 29ms/step - loss: 4.0536e-04\n",
      "Epoch 42/50\n",
      "544/544 [==============================] - 16s 29ms/step - loss: 4.4455e-04\n",
      "Epoch 43/50\n",
      "544/544 [==============================] - 16s 30ms/step - loss: 3.9481e-04\n",
      "Epoch 44/50\n",
      "544/544 [==============================] - 15s 27ms/step - loss: 3.8157e-04\n",
      "Epoch 45/50\n",
      "544/544 [==============================] - 15s 27ms/step - loss: 3.9858e-04\n",
      "Epoch 46/50\n",
      "544/544 [==============================] - 15s 27ms/step - loss: 3.8311e-04\n",
      "Epoch 47/50\n",
      "544/544 [==============================] - 15s 27ms/step - loss: 4.1042e-04\n",
      "Epoch 48/50\n",
      "544/544 [==============================] - 15s 27ms/step - loss: 4.0318e-04\n",
      "Epoch 49/50\n",
      "544/544 [==============================] - 15s 28ms/step - loss: 4.0109e-04\n",
      "Epoch 50/50\n",
      "544/544 [==============================] - 15s 28ms/step - loss: 3.7445e-04\n"
     ]
    },
    {
     "data": {
      "text/plain": [
       "<keras.callbacks.History at 0x7fa8d1766a90>"
      ]
     },
     "execution_count": 376,
     "metadata": {},
     "output_type": "execute_result"
    }
   ],
   "source": [
    "#Training the model\n",
    "model.fit(X_train, y_train, batch_size=1, epochs=50)"
   ]
  },
  {
   "cell_type": "code",
   "execution_count": 377,
   "id": "f62683ba",
   "metadata": {},
   "outputs": [],
   "source": [
    "#Creating testing dataset\n",
    "#Creating a new array containing scaled values from index 544 to 604\n",
    "test_data=scaled_data[training_data_length - 60:, :]\n",
    "# Create the X_test and y_test\n",
    "X_test=[]\n",
    "y_test= dataset[training_data_length:,:]\n",
    "\n",
    "for i in range(60, len(test_data)):\n",
    "    X_test.append(test_data[i-60:i,0])"
   ]
  },
  {
   "cell_type": "code",
   "execution_count": 378,
   "id": "4d5ff09f",
   "metadata": {},
   "outputs": [],
   "source": [
    "# Coverting the data to a numpy array \n",
    "X_test= np.array(X_test)"
   ]
  },
  {
   "cell_type": "code",
   "execution_count": 379,
   "id": "91de974e",
   "metadata": {},
   "outputs": [],
   "source": [
    "# Reshaping the data\n",
    "X_test= np.reshape(X_test,(X_test.shape[0], X_test.shape[1],1))"
   ]
  },
  {
   "cell_type": "code",
   "execution_count": 380,
   "id": "cbebd1ea",
   "metadata": {},
   "outputs": [],
   "source": [
    "# Getting the model's predicted price values \n",
    "predictions= model.predict(X_test)\n",
    "predictions= scaler.inverse_transform(predictions)\n"
   ]
  },
  {
   "cell_type": "code",
   "execution_count": 381,
   "id": "088ff407",
   "metadata": {},
   "outputs": [
    {
     "data": {
      "text/plain": [
       "0.05981344483230289"
      ]
     },
     "execution_count": 381,
     "metadata": {},
     "output_type": "execute_result"
    }
   ],
   "source": [
    "# Evaluating the model by getting the root mean squared error (RMSE)\n",
    "rmse= np.sqrt(np.mean(predictions- y_test)**2)\n",
    "rmse\n"
   ]
  },
  {
   "cell_type": "code",
   "execution_count": 383,
   "id": "b2e3faed",
   "metadata": {},
   "outputs": [
    {
     "name": "stderr",
     "output_type": "stream",
     "text": [
      "/Users/ksenia/opt/anaconda3/envs/dev/lib/python3.7/site-packages/ipykernel_launcher.py:4: SettingWithCopyWarning: \n",
      "A value is trying to be set on a copy of a slice from a DataFrame.\n",
      "Try using .loc[row_indexer,col_indexer] = value instead\n",
      "\n",
      "See the caveats in the documentation: https://pandas.pydata.org/pandas-docs/stable/user_guide/indexing.html#returning-a-view-versus-a-copy\n",
      "  after removing the cwd from sys.path.\n"
     ]
    },
    {
     "data": {
      "image/png": "[encoded data removed]",
      "text/plain": [
       "<Figure size 1080x504 with 1 Axes>"
      ]
     },
     "metadata": {},
     "output_type": "display_data"
    }
   ],
   "source": [
    "# Plot the data\n",
    "train= data[: training_data_length]\n",
    "valid= data[training_data_length:]\n",
    "valid[\"Predictions\"]= predictions\n",
    "\n",
    "plt.figure(figsize=(15,7))\n",
    "plt.title(\"Model\")\n",
    "plt.xlabel(\"Date\")\n",
    "plt.ylabel(\"Close price in USD ($)\")\n",
    "plt.plot(train[\"close\"])\n",
    "plt.plot(valid[[\"close\", \"Predictions\"]])\n",
    "plt.legend([\"Training\", \"Actual Price\", \"Predictions\"], loc=\"lower right\")\n",
    "plt.show()"
   ]
  }
 ],
 "metadata": {
  "kernelspec": {
   "display_name": "Python (dev)",
   "language": "python",
   "name": "dev"
  },
  "language_info": {
   "codemirror_mode": {
    "name": "ipython",
    "version": 3
   },
   "file_extension": ".py",
   "mimetype": "text/x-python",
   "name": "python",
   "nbconvert_exporter": "python",
   "pygments_lexer": "ipython3",
   "version": "3.7.10"
  }
 },
 "nbformat": 4,
 "nbformat_minor": 5
}
