{
  "nbformat": 4,
  "nbformat_minor": 0,
  "metadata": {
    "colab": {
      "name": "california_farmland_prices.ipynb",
      "provenance": []
    },
    "kernelspec": {
      "name": "python3",
      "display_name": "Python 3"
    },
    "language_info": {
      "name": "python"
    }
  },
  "cells": [
    {
      "cell_type": "code",
      "metadata": {
        "colab": {
          "base_uri": "https://localhost:8080/"
        },
        "id": "0mApaAqs6Bjs",
        "outputId": "d33b8f8a-1d14-41b0-97c2-34d3b51c389e"
      },
      "source": [
        "from IPython.display import clear_output\n",
        "try:\n",
        "  !pip install pystan\n",
        "  !pip install fbprophet\n",
        "except:\n",
        "  print(\"Error installing facebook prophet\")\n",
        "finally:\n",
        "  clear_output()\n",
        "  print('Facebook Prophet was successfully installed')"
      ],
      "execution_count": 1,
      "outputs": [
        {
          "output_type": "stream",
          "name": "stdout",
          "text": [
            "Facebook Prophet was successfully installed\n"
          ]
        }
      ]
    },
    {
      "cell_type": "code",
      "metadata": {
        "id": "i6vXWUCy6MO7"
      },
      "source": [
        "# Import the required libraries and dependencies\n",
        "import pandas as pd\n",
        "from pathlib import Path\n",
        "from fbprophet import Prophet\n",
        "import matplotlib.pyplot as plt\n",
        "%matplotlib inline"
      ],
      "execution_count": 2,
      "outputs": []
    },
    {
      "cell_type": "code",
      "metadata": {
        "colab": {
          "base_uri": "https://localhost:8080/",
          "height": 244
        },
        "id": "xBWMw8KJ6MXR",
        "outputId": "d57c72bb-fcd0-44a1-c7db-96dee308a4e9"
      },
      "source": [
        "# Loading value_per_acre.csv file from data folder\n",
        "value_per_acre_df= pd.read_csv(\"./value_per_acre.csv\",\n",
        "                               parse_dates= True)\n",
        "value_per_acre_df.tail()"
      ],
      "execution_count": 4,
      "outputs": [
        {
          "output_type": "execute_result",
          "data": {
            "text/html": [
              "<div>\n",
              "<style scoped>\n",
              "    .dataframe tbody tr th:only-of-type {\n",
              "        vertical-align: middle;\n",
              "    }\n",
              "\n",
              "    .dataframe tbody tr th {\n",
              "        vertical-align: top;\n",
              "    }\n",
              "\n",
              "    .dataframe thead th {\n",
              "        text-align: right;\n",
              "    }\n",
              "</style>\n",
              "<table border=\"1\" class=\"dataframe\">\n",
              "  <thead>\n",
              "    <tr style=\"text-align: right;\">\n",
              "      <th></th>\n",
              "      <th>Unnamed: 0</th>\n",
              "      <th>Alabama</th>\n",
              "      <th>Alaska</th>\n",
              "      <th>Arizona</th>\n",
              "      <th>Arkansas</th>\n",
              "      <th>California</th>\n",
              "      <th>Colorado</th>\n",
              "      <th>Connecticut</th>\n",
              "      <th>Delaware</th>\n",
              "      <th>Florida</th>\n",
              "      <th>Georgia</th>\n",
              "      <th>Hawaii</th>\n",
              "      <th>Idaho</th>\n",
              "      <th>Illinois</th>\n",
              "      <th>Indiana</th>\n",
              "      <th>Iowa</th>\n",
              "      <th>Kansas</th>\n",
              "      <th>Kentucky</th>\n",
              "      <th>Louisiana</th>\n",
              "      <th>Maine</th>\n",
              "      <th>Maryland</th>\n",
              "      <th>Massachusetts</th>\n",
              "      <th>Michigan</th>\n",
              "      <th>Minnesota</th>\n",
              "      <th>Mississippi</th>\n",
              "      <th>Missouri</th>\n",
              "      <th>Montana</th>\n",
              "      <th>Nebraska</th>\n",
              "      <th>Nevada</th>\n",
              "      <th>New Hampshire</th>\n",
              "      <th>New Jersey</th>\n",
              "      <th>New Mexico</th>\n",
              "      <th>New York</th>\n",
              "      <th>North Carolina</th>\n",
              "      <th>North Dakota</th>\n",
              "      <th>Ohio</th>\n",
              "      <th>Oklahoma</th>\n",
              "      <th>Oregon</th>\n",
              "      <th>Pennsylvania</th>\n",
              "      <th>Rhode Island</th>\n",
              "      <th>South Carolina</th>\n",
              "      <th>South Dakota</th>\n",
              "      <th>Tennessee</th>\n",
              "      <th>Texas</th>\n",
              "      <th>Utah</th>\n",
              "      <th>Vermont</th>\n",
              "      <th>Virginia</th>\n",
              "      <th>Washington</th>\n",
              "      <th>West Virginia</th>\n",
              "      <th>Wisconsin</th>\n",
              "      <th>Wyoming</th>\n",
              "    </tr>\n",
              "  </thead>\n",
              "  <tbody>\n",
              "    <tr>\n",
              "      <th>43</th>\n",
              "      <td>2017</td>\n",
              "      <td>3170</td>\n",
              "      <td>NaN</td>\n",
              "      <td>7720</td>\n",
              "      <td>2730</td>\n",
              "      <td>11630</td>\n",
              "      <td>2070</td>\n",
              "      <td>7630</td>\n",
              "      <td>7960</td>\n",
              "      <td>6940</td>\n",
              "      <td>3430</td>\n",
              "      <td>NaN</td>\n",
              "      <td>3570</td>\n",
              "      <td>7210</td>\n",
              "      <td>6300</td>\n",
              "      <td>7440</td>\n",
              "      <td>2010</td>\n",
              "      <td>4140</td>\n",
              "      <td>2700</td>\n",
              "      <td>7630</td>\n",
              "      <td>7050</td>\n",
              "      <td>7630</td>\n",
              "      <td>4580</td>\n",
              "      <td>4920</td>\n",
              "      <td>2900</td>\n",
              "      <td>3560</td>\n",
              "      <td>1010</td>\n",
              "      <td>4430</td>\n",
              "      <td>5829</td>\n",
              "      <td>7630</td>\n",
              "      <td>13600</td>\n",
              "      <td>1560</td>\n",
              "      <td>2740</td>\n",
              "      <td>4090</td>\n",
              "      <td>1890</td>\n",
              "      <td>6150</td>\n",
              "      <td>1590</td>\n",
              "      <td>2920</td>\n",
              "      <td>6470</td>\n",
              "      <td>7630</td>\n",
              "      <td>2700</td>\n",
              "      <td>3200</td>\n",
              "      <td>3730</td>\n",
              "      <td>1850</td>\n",
              "      <td>3690</td>\n",
              "      <td>7630</td>\n",
              "      <td>4730</td>\n",
              "      <td>2660</td>\n",
              "      <td>3250</td>\n",
              "      <td>4870</td>\n",
              "      <td>1460</td>\n",
              "    </tr>\n",
              "    <tr>\n",
              "      <th>44</th>\n",
              "      <td>2018</td>\n",
              "      <td>3300</td>\n",
              "      <td>NaN</td>\n",
              "      <td>7610</td>\n",
              "      <td>2780</td>\n",
              "      <td>12170</td>\n",
              "      <td>2100</td>\n",
              "      <td>7650</td>\n",
              "      <td>8120</td>\n",
              "      <td>7040</td>\n",
              "      <td>3430</td>\n",
              "      <td>NaN</td>\n",
              "      <td>3740</td>\n",
              "      <td>7280</td>\n",
              "      <td>6210</td>\n",
              "      <td>7290</td>\n",
              "      <td>2060</td>\n",
              "      <td>4250</td>\n",
              "      <td>2790</td>\n",
              "      <td>7650</td>\n",
              "      <td>7280</td>\n",
              "      <td>7650</td>\n",
              "      <td>4510</td>\n",
              "      <td>4950</td>\n",
              "      <td>3000</td>\n",
              "      <td>3490</td>\n",
              "      <td>1020</td>\n",
              "      <td>4380</td>\n",
              "      <td>5722</td>\n",
              "      <td>7650</td>\n",
              "      <td>13700</td>\n",
              "      <td>1580</td>\n",
              "      <td>2800</td>\n",
              "      <td>4130</td>\n",
              "      <td>1870</td>\n",
              "      <td>6320</td>\n",
              "      <td>1630</td>\n",
              "      <td>3000</td>\n",
              "      <td>6890</td>\n",
              "      <td>7650</td>\n",
              "      <td>2790</td>\n",
              "      <td>3120</td>\n",
              "      <td>3830</td>\n",
              "      <td>1890</td>\n",
              "      <td>3830</td>\n",
              "      <td>7650</td>\n",
              "      <td>4760</td>\n",
              "      <td>2630</td>\n",
              "      <td>3250</td>\n",
              "      <td>4740</td>\n",
              "      <td>1490</td>\n",
              "    </tr>\n",
              "    <tr>\n",
              "      <th>45</th>\n",
              "      <td>2019</td>\n",
              "      <td>3430</td>\n",
              "      <td>NaN</td>\n",
              "      <td>7600</td>\n",
              "      <td>2850</td>\n",
              "      <td>12830</td>\n",
              "      <td>2160</td>\n",
              "      <td>7900</td>\n",
              "      <td>8600</td>\n",
              "      <td>7190</td>\n",
              "      <td>3210</td>\n",
              "      <td>NaN</td>\n",
              "      <td>3930</td>\n",
              "      <td>7300</td>\n",
              "      <td>6210</td>\n",
              "      <td>7260</td>\n",
              "      <td>2160</td>\n",
              "      <td>4300</td>\n",
              "      <td>2880</td>\n",
              "      <td>7900</td>\n",
              "      <td>7370</td>\n",
              "      <td>7900</td>\n",
              "      <td>4500</td>\n",
              "      <td>4810</td>\n",
              "      <td>3080</td>\n",
              "      <td>3490</td>\n",
              "      <td>1040</td>\n",
              "      <td>4390</td>\n",
              "      <td>5722</td>\n",
              "      <td>7900</td>\n",
              "      <td>13700</td>\n",
              "      <td>1550</td>\n",
              "      <td>2810</td>\n",
              "      <td>4180</td>\n",
              "      <td>1920</td>\n",
              "      <td>6400</td>\n",
              "      <td>1670</td>\n",
              "      <td>3080</td>\n",
              "      <td>7030</td>\n",
              "      <td>7900</td>\n",
              "      <td>2830</td>\n",
              "      <td>3130</td>\n",
              "      <td>3910</td>\n",
              "      <td>1930</td>\n",
              "      <td>3970</td>\n",
              "      <td>7900</td>\n",
              "      <td>4720</td>\n",
              "      <td>2630</td>\n",
              "      <td>3280</td>\n",
              "      <td>4850</td>\n",
              "      <td>1520</td>\n",
              "    </tr>\n",
              "    <tr>\n",
              "      <th>46</th>\n",
              "      <td>2020</td>\n",
              "      <td>3500</td>\n",
              "      <td>NaN</td>\n",
              "      <td>7650</td>\n",
              "      <td>2880</td>\n",
              "      <td>12900</td>\n",
              "      <td>2200</td>\n",
              "      <td>7900</td>\n",
              "      <td>8600</td>\n",
              "      <td>7190</td>\n",
              "      <td>3320</td>\n",
              "      <td>NaN</td>\n",
              "      <td>4070</td>\n",
              "      <td>7300</td>\n",
              "      <td>6210</td>\n",
              "      <td>7170</td>\n",
              "      <td>2080</td>\n",
              "      <td>4400</td>\n",
              "      <td>2930</td>\n",
              "      <td>7900</td>\n",
              "      <td>7380</td>\n",
              "      <td>7900</td>\n",
              "      <td>4480</td>\n",
              "      <td>4800</td>\n",
              "      <td>3100</td>\n",
              "      <td>3530</td>\n",
              "      <td>1030</td>\n",
              "      <td>4360</td>\n",
              "      <td>5722</td>\n",
              "      <td>7900</td>\n",
              "      <td>13800</td>\n",
              "      <td>1600</td>\n",
              "      <td>2800</td>\n",
              "      <td>4180</td>\n",
              "      <td>1930</td>\n",
              "      <td>6460</td>\n",
              "      <td>1690</td>\n",
              "      <td>3120</td>\n",
              "      <td>7100</td>\n",
              "      <td>7900</td>\n",
              "      <td>2830</td>\n",
              "      <td>3030</td>\n",
              "      <td>3990</td>\n",
              "      <td>2030</td>\n",
              "      <td>4040</td>\n",
              "      <td>7900</td>\n",
              "      <td>4680</td>\n",
              "      <td>2610</td>\n",
              "      <td>3270</td>\n",
              "      <td>4770</td>\n",
              "      <td>1540</td>\n",
              "    </tr>\n",
              "    <tr>\n",
              "      <th>47</th>\n",
              "      <td>2021</td>\n",
              "      <td>3550</td>\n",
              "      <td>NaN</td>\n",
              "      <td>7700</td>\n",
              "      <td>2930</td>\n",
              "      <td>13860</td>\n",
              "      <td>2240</td>\n",
              "      <td>8770</td>\n",
              "      <td>8600</td>\n",
              "      <td>7300</td>\n",
              "      <td>3480</td>\n",
              "      <td>NaN</td>\n",
              "      <td>4450</td>\n",
              "      <td>7900</td>\n",
              "      <td>6800</td>\n",
              "      <td>7810</td>\n",
              "      <td>2370</td>\n",
              "      <td>4510</td>\n",
              "      <td>2980</td>\n",
              "      <td>8770</td>\n",
              "      <td>7960</td>\n",
              "      <td>8770</td>\n",
              "      <td>4700</td>\n",
              "      <td>5270</td>\n",
              "      <td>3150</td>\n",
              "      <td>3810</td>\n",
              "      <td>1050</td>\n",
              "      <td>4960</td>\n",
              "      <td>5616</td>\n",
              "      <td>8770</td>\n",
              "      <td>14800</td>\n",
              "      <td>1660</td>\n",
              "      <td>2910</td>\n",
              "      <td>4290</td>\n",
              "      <td>2060</td>\n",
              "      <td>6800</td>\n",
              "      <td>1810</td>\n",
              "      <td>3310</td>\n",
              "      <td>7600</td>\n",
              "      <td>8770</td>\n",
              "      <td>2900</td>\n",
              "      <td>3390</td>\n",
              "      <td>4130</td>\n",
              "      <td>2150</td>\n",
              "      <td>4190</td>\n",
              "      <td>8770</td>\n",
              "      <td>4790</td>\n",
              "      <td>2700</td>\n",
              "      <td>3330</td>\n",
              "      <td>5280</td>\n",
              "      <td>1600</td>\n",
              "    </tr>\n",
              "  </tbody>\n",
              "</table>\n",
              "</div>"
            ],
            "text/plain": [
              "    Unnamed: 0  Alabama  Alaska  ...  West Virginia  Wisconsin  Wyoming\n",
              "43        2017     3170     NaN  ...           3250       4870     1460\n",
              "44        2018     3300     NaN  ...           3250       4740     1490\n",
              "45        2019     3430     NaN  ...           3280       4850     1520\n",
              "46        2020     3500     NaN  ...           3270       4770     1540\n",
              "47        2021     3550     NaN  ...           3330       5280     1600\n",
              "\n",
              "[5 rows x 51 columns]"
            ]
          },
          "metadata": {},
          "execution_count": 4
        }
      ]
    },
    {
      "cell_type": "code",
      "metadata": {
        "id": "9-3Lx0Q96Mem"
      },
      "source": [
        "# Renaming unnamed column to \"Year\"\n",
        "value_per_acre_df=value_per_acre_df.rename(columns={\"Unnamed: 0\": \"Year\"})"
      ],
      "execution_count": 5,
      "outputs": []
    },
    {
      "cell_type": "code",
      "metadata": {
        "colab": {
          "base_uri": "https://localhost:8080/",
          "height": 206
        },
        "id": "EFujlRNi613i",
        "outputId": "d2b1efc5-492e-42f3-8162-46d3ac43a32d"
      },
      "source": [
        "# Selecting the historcial prices of the farmland in California over the last 20 years\n",
        "california_df= value_per_acre_df.loc[26:,[\"Year\", \"California\"]]\n",
        "california_df.head()"
      ],
      "execution_count": 6,
      "outputs": [
        {
          "output_type": "execute_result",
          "data": {
            "text/html": [
              "<div>\n",
              "<style scoped>\n",
              "    .dataframe tbody tr th:only-of-type {\n",
              "        vertical-align: middle;\n",
              "    }\n",
              "\n",
              "    .dataframe tbody tr th {\n",
              "        vertical-align: top;\n",
              "    }\n",
              "\n",
              "    .dataframe thead th {\n",
              "        text-align: right;\n",
              "    }\n",
              "</style>\n",
              "<table border=\"1\" class=\"dataframe\">\n",
              "  <thead>\n",
              "    <tr style=\"text-align: right;\">\n",
              "      <th></th>\n",
              "      <th>Year</th>\n",
              "      <th>California</th>\n",
              "    </tr>\n",
              "  </thead>\n",
              "  <tbody>\n",
              "    <tr>\n",
              "      <th>26</th>\n",
              "      <td>2000</td>\n",
              "      <td>5960</td>\n",
              "    </tr>\n",
              "    <tr>\n",
              "      <th>27</th>\n",
              "      <td>2001</td>\n",
              "      <td>5870</td>\n",
              "    </tr>\n",
              "    <tr>\n",
              "      <th>28</th>\n",
              "      <td>2002</td>\n",
              "      <td>5730</td>\n",
              "    </tr>\n",
              "    <tr>\n",
              "      <th>29</th>\n",
              "      <td>2003</td>\n",
              "      <td>5920</td>\n",
              "    </tr>\n",
              "    <tr>\n",
              "      <th>30</th>\n",
              "      <td>2004</td>\n",
              "      <td>6020</td>\n",
              "    </tr>\n",
              "  </tbody>\n",
              "</table>\n",
              "</div>"
            ],
            "text/plain": [
              "    Year  California\n",
              "26  2000        5960\n",
              "27  2001        5870\n",
              "28  2002        5730\n",
              "29  2003        5920\n",
              "30  2004        6020"
            ]
          },
          "metadata": {},
          "execution_count": 6
        }
      ]
    },
    {
      "cell_type": "code",
      "metadata": {
        "id": "Cl4RjI_56Lbw"
      },
      "source": [
        "california_df[\"Year\"] = pd.to_datetime(california_df['Year'], format=\"%Y\")"
      ],
      "execution_count": 7,
      "outputs": []
    },
    {
      "cell_type": "code",
      "metadata": {
        "colab": {
          "base_uri": "https://localhost:8080/"
        },
        "id": "JvGhOsHC7PBi",
        "outputId": "fb48de65-d2fd-42fb-e5df-fb4203555a4d"
      },
      "source": [
        "california_df.dtypes"
      ],
      "execution_count": 8,
      "outputs": [
        {
          "output_type": "execute_result",
          "data": {
            "text/plain": [
              "Year          datetime64[ns]\n",
              "California             int64\n",
              "dtype: object"
            ]
          },
          "metadata": {},
          "execution_count": 8
        }
      ]
    },
    {
      "cell_type": "code",
      "metadata": {
        "colab": {
          "base_uri": "https://localhost:8080/",
          "height": 206
        },
        "id": "ZfKB6HQr62Ae",
        "outputId": "f8803711-0d18-4a0b-abe3-e1ef339d76ed"
      },
      "source": [
        "# Rename the columns to the Prophet model syntax \n",
        "california_df = california_df.rename(columns={\"Year\":\"ds\", \"California\":\"y\"})\n",
        "\n",
        "# Review the DataFrame\n",
        "california_df.head()"
      ],
      "execution_count": 9,
      "outputs": [
        {
          "output_type": "execute_result",
          "data": {
            "text/html": [
              "<div>\n",
              "<style scoped>\n",
              "    .dataframe tbody tr th:only-of-type {\n",
              "        vertical-align: middle;\n",
              "    }\n",
              "\n",
              "    .dataframe tbody tr th {\n",
              "        vertical-align: top;\n",
              "    }\n",
              "\n",
              "    .dataframe thead th {\n",
              "        text-align: right;\n",
              "    }\n",
              "</style>\n",
              "<table border=\"1\" class=\"dataframe\">\n",
              "  <thead>\n",
              "    <tr style=\"text-align: right;\">\n",
              "      <th></th>\n",
              "      <th>ds</th>\n",
              "      <th>y</th>\n",
              "    </tr>\n",
              "  </thead>\n",
              "  <tbody>\n",
              "    <tr>\n",
              "      <th>26</th>\n",
              "      <td>2000-01-01</td>\n",
              "      <td>5960</td>\n",
              "    </tr>\n",
              "    <tr>\n",
              "      <th>27</th>\n",
              "      <td>2001-01-01</td>\n",
              "      <td>5870</td>\n",
              "    </tr>\n",
              "    <tr>\n",
              "      <th>28</th>\n",
              "      <td>2002-01-01</td>\n",
              "      <td>5730</td>\n",
              "    </tr>\n",
              "    <tr>\n",
              "      <th>29</th>\n",
              "      <td>2003-01-01</td>\n",
              "      <td>5920</td>\n",
              "    </tr>\n",
              "    <tr>\n",
              "      <th>30</th>\n",
              "      <td>2004-01-01</td>\n",
              "      <td>6020</td>\n",
              "    </tr>\n",
              "  </tbody>\n",
              "</table>\n",
              "</div>"
            ],
            "text/plain": [
              "           ds     y\n",
              "26 2000-01-01  5960\n",
              "27 2001-01-01  5870\n",
              "28 2002-01-01  5730\n",
              "29 2003-01-01  5920\n",
              "30 2004-01-01  6020"
            ]
          },
          "metadata": {},
          "execution_count": 9
        }
      ]
    },
    {
      "cell_type": "code",
      "metadata": {
        "id": "q83EDLWF6_Y_"
      },
      "source": [
        "# Creating a Prophet model for the price prediction of the farmland in California\n",
        "model = Prophet()"
      ],
      "execution_count": 10,
      "outputs": []
    },
    {
      "cell_type": "code",
      "metadata": {
        "colab": {
          "base_uri": "https://localhost:8080/"
        },
        "id": "f2gRZcuH6_ij",
        "outputId": "2ded4e74-f786-46e8-fb5d-8b29aee47f59"
      },
      "source": [
        "# Fitting the Prophet model\n",
        "model.fit(california_df)"
      ],
      "execution_count": 11,
      "outputs": [
        {
          "output_type": "stream",
          "name": "stderr",
          "text": [
            "INFO:numexpr.utils:NumExpr defaulting to 2 threads.\n",
            "INFO:fbprophet:Disabling weekly seasonality. Run prophet with weekly_seasonality=True to override this.\n",
            "INFO:fbprophet:Disabling daily seasonality. Run prophet with daily_seasonality=True to override this.\n",
            "INFO:fbprophet:n_changepoints greater than number of observations. Using 16.\n"
          ]
        },
        {
          "output_type": "execute_result",
          "data": {
            "text/plain": [
              "<fbprophet.forecaster.Prophet at 0x7fdf41343ed0>"
            ]
          },
          "metadata": {},
          "execution_count": 11
        }
      ]
    },
    {
      "cell_type": "code",
      "metadata": {
        "colab": {
          "base_uri": "https://localhost:8080/",
          "height": 206
        },
        "id": "3YH7CrZY7GCX",
        "outputId": "15e7d64e-4f66-4593-92be-7a1420588de6"
      },
      "source": [
        "# Forecast 15 years of farmland prices in California\n",
        "future_farmland_prices_california = model.make_future_dataframe(periods=15, freq=\"Y\")\n",
        "\n",
        "# Display the last five rows of the DataFrame\n",
        "future_farmland_prices_california.tail()"
      ],
      "execution_count": 12,
      "outputs": [
        {
          "output_type": "execute_result",
          "data": {
            "text/html": [
              "<div>\n",
              "<style scoped>\n",
              "    .dataframe tbody tr th:only-of-type {\n",
              "        vertical-align: middle;\n",
              "    }\n",
              "\n",
              "    .dataframe tbody tr th {\n",
              "        vertical-align: top;\n",
              "    }\n",
              "\n",
              "    .dataframe thead th {\n",
              "        text-align: right;\n",
              "    }\n",
              "</style>\n",
              "<table border=\"1\" class=\"dataframe\">\n",
              "  <thead>\n",
              "    <tr style=\"text-align: right;\">\n",
              "      <th></th>\n",
              "      <th>ds</th>\n",
              "    </tr>\n",
              "  </thead>\n",
              "  <tbody>\n",
              "    <tr>\n",
              "      <th>32</th>\n",
              "      <td>2031-12-31</td>\n",
              "    </tr>\n",
              "    <tr>\n",
              "      <th>33</th>\n",
              "      <td>2032-12-31</td>\n",
              "    </tr>\n",
              "    <tr>\n",
              "      <th>34</th>\n",
              "      <td>2033-12-31</td>\n",
              "    </tr>\n",
              "    <tr>\n",
              "      <th>35</th>\n",
              "      <td>2034-12-31</td>\n",
              "    </tr>\n",
              "    <tr>\n",
              "      <th>36</th>\n",
              "      <td>2035-12-31</td>\n",
              "    </tr>\n",
              "  </tbody>\n",
              "</table>\n",
              "</div>"
            ],
            "text/plain": [
              "           ds\n",
              "32 2031-12-31\n",
              "33 2032-12-31\n",
              "34 2033-12-31\n",
              "35 2034-12-31\n",
              "36 2035-12-31"
            ]
          },
          "metadata": {},
          "execution_count": 12
        }
      ]
    },
    {
      "cell_type": "code",
      "metadata": {
        "id": "QonL7o-O7GJY",
        "colab": {
          "base_uri": "https://localhost:8080/",
          "height": 313
        },
        "outputId": "c52efa25-b49f-47fb-b1d7-06eae5881b85"
      },
      "source": [
        "# Making predictions using the future_farmland_prices DataFrame\n",
        "forecast_farmland_prices_california = model.predict(future_farmland_prices_california)\n",
        "\n",
        "# Display the first five rows of the forecast_canada DataFrame\n",
        "forecast_farmland_prices_california.head()"
      ],
      "execution_count": 13,
      "outputs": [
        {
          "output_type": "execute_result",
          "data": {
            "text/html": [
              "<div>\n",
              "<style scoped>\n",
              "    .dataframe tbody tr th:only-of-type {\n",
              "        vertical-align: middle;\n",
              "    }\n",
              "\n",
              "    .dataframe tbody tr th {\n",
              "        vertical-align: top;\n",
              "    }\n",
              "\n",
              "    .dataframe thead th {\n",
              "        text-align: right;\n",
              "    }\n",
              "</style>\n",
              "<table border=\"1\" class=\"dataframe\">\n",
              "  <thead>\n",
              "    <tr style=\"text-align: right;\">\n",
              "      <th></th>\n",
              "      <th>ds</th>\n",
              "      <th>trend</th>\n",
              "      <th>yhat_lower</th>\n",
              "      <th>yhat_upper</th>\n",
              "      <th>trend_lower</th>\n",
              "      <th>trend_upper</th>\n",
              "      <th>additive_terms</th>\n",
              "      <th>additive_terms_lower</th>\n",
              "      <th>additive_terms_upper</th>\n",
              "      <th>yearly</th>\n",
              "      <th>yearly_lower</th>\n",
              "      <th>yearly_upper</th>\n",
              "      <th>multiplicative_terms</th>\n",
              "      <th>multiplicative_terms_lower</th>\n",
              "      <th>multiplicative_terms_upper</th>\n",
              "      <th>yhat</th>\n",
              "    </tr>\n",
              "  </thead>\n",
              "  <tbody>\n",
              "    <tr>\n",
              "      <th>0</th>\n",
              "      <td>2000-01-01</td>\n",
              "      <td>2084.026720</td>\n",
              "      <td>4693.369006</td>\n",
              "      <td>6439.915401</td>\n",
              "      <td>2084.026720</td>\n",
              "      <td>2084.026720</td>\n",
              "      <td>3498.228468</td>\n",
              "      <td>3498.228468</td>\n",
              "      <td>3498.228468</td>\n",
              "      <td>3498.228468</td>\n",
              "      <td>3498.228468</td>\n",
              "      <td>3498.228468</td>\n",
              "      <td>0.0</td>\n",
              "      <td>0.0</td>\n",
              "      <td>0.0</td>\n",
              "      <td>5582.255188</td>\n",
              "    </tr>\n",
              "    <tr>\n",
              "      <th>1</th>\n",
              "      <td>2001-01-01</td>\n",
              "      <td>2445.815339</td>\n",
              "      <td>5273.616016</td>\n",
              "      <td>6994.432741</td>\n",
              "      <td>2445.815339</td>\n",
              "      <td>2445.815339</td>\n",
              "      <td>3718.188814</td>\n",
              "      <td>3718.188814</td>\n",
              "      <td>3718.188814</td>\n",
              "      <td>3718.188814</td>\n",
              "      <td>3718.188814</td>\n",
              "      <td>3718.188814</td>\n",
              "      <td>0.0</td>\n",
              "      <td>0.0</td>\n",
              "      <td>0.0</td>\n",
              "      <td>6164.004153</td>\n",
              "    </tr>\n",
              "    <tr>\n",
              "      <th>2</th>\n",
              "      <td>2002-01-01</td>\n",
              "      <td>2806.615465</td>\n",
              "      <td>5586.974250</td>\n",
              "      <td>7228.384951</td>\n",
              "      <td>2806.615465</td>\n",
              "      <td>2806.615465</td>\n",
              "      <td>3607.166985</td>\n",
              "      <td>3607.166985</td>\n",
              "      <td>3607.166985</td>\n",
              "      <td>3607.166985</td>\n",
              "      <td>3607.166985</td>\n",
              "      <td>3607.166985</td>\n",
              "      <td>0.0</td>\n",
              "      <td>0.0</td>\n",
              "      <td>0.0</td>\n",
              "      <td>6413.782450</td>\n",
              "    </tr>\n",
              "    <tr>\n",
              "      <th>3</th>\n",
              "      <td>2003-01-01</td>\n",
              "      <td>3167.415590</td>\n",
              "      <td>5831.483523</td>\n",
              "      <td>7589.725562</td>\n",
              "      <td>3167.415590</td>\n",
              "      <td>3167.415590</td>\n",
              "      <td>3533.822536</td>\n",
              "      <td>3533.822536</td>\n",
              "      <td>3533.822536</td>\n",
              "      <td>3533.822536</td>\n",
              "      <td>3533.822536</td>\n",
              "      <td>3533.822536</td>\n",
              "      <td>0.0</td>\n",
              "      <td>0.0</td>\n",
              "      <td>0.0</td>\n",
              "      <td>6701.238127</td>\n",
              "    </tr>\n",
              "    <tr>\n",
              "      <th>4</th>\n",
              "      <td>2004-01-01</td>\n",
              "      <td>3528.215716</td>\n",
              "      <td>6178.582793</td>\n",
              "      <td>7947.385781</td>\n",
              "      <td>3528.215716</td>\n",
              "      <td>3528.215716</td>\n",
              "      <td>3498.228468</td>\n",
              "      <td>3498.228468</td>\n",
              "      <td>3498.228468</td>\n",
              "      <td>3498.228468</td>\n",
              "      <td>3498.228468</td>\n",
              "      <td>3498.228468</td>\n",
              "      <td>0.0</td>\n",
              "      <td>0.0</td>\n",
              "      <td>0.0</td>\n",
              "      <td>7026.444184</td>\n",
              "    </tr>\n",
              "  </tbody>\n",
              "</table>\n",
              "</div>"
            ],
            "text/plain": [
              "          ds        trend  ...  multiplicative_terms_upper         yhat\n",
              "0 2000-01-01  2084.026720  ...                         0.0  5582.255188\n",
              "1 2001-01-01  2445.815339  ...                         0.0  6164.004153\n",
              "2 2002-01-01  2806.615465  ...                         0.0  6413.782450\n",
              "3 2003-01-01  3167.415590  ...                         0.0  6701.238127\n",
              "4 2004-01-01  3528.215716  ...                         0.0  7026.444184\n",
              "\n",
              "[5 rows x 16 columns]"
            ]
          },
          "metadata": {},
          "execution_count": 13
        }
      ]
    },
    {
      "cell_type": "code",
      "metadata": {
        "colab": {
          "base_uri": "https://localhost:8080/",
          "height": 865
        },
        "id": "wz_Mvd627GSI",
        "outputId": "adc01e8f-3152-4675-9ffb-c543438737dc"
      },
      "source": [
        "# Ploting the Prophet predictions  \n",
        "model.plot(forecast_farmland_prices_california)"
      ],
      "execution_count": 16,
      "outputs": [
        {
          "output_type": "execute_result",
          "data": {
            "image/png": "[encoded data removed]",
            "text/plain": [
              "<Figure size 720x432 with 1 Axes>"
            ]
          },
          "metadata": {},
          "execution_count": 16
        },
        {
          "output_type": "display_data",
          "data": {
            "image/png": "[encoded data removed]",
            "text/plain": [
              "<Figure size 720x432 with 1 Axes>"
            ]
          },
          "metadata": {}
        }
      ]
    },
    {
      "cell_type": "code",
      "metadata": {
        "colab": {
          "base_uri": "https://localhost:8080/",
          "height": 344
        },
        "id": "nEN-hs0B7f1R",
        "outputId": "51e963a9-d19a-43cb-c8f3-88c4428b1db8"
      },
      "source": [
        "# Setting the index in the forecast_farmland_prices_california DataFrame to the ds datetime column \n",
        "forecast_farmland_prices_california = forecast_farmland_prices_california.set_index('ds')\n",
        "\n",
        "# Display the forecast_canada DataFrame\n",
        "forecast_farmland_prices_california.tail()\n",
        "\n",
        "\n"
      ],
      "execution_count": 27,
      "outputs": [
        {
          "output_type": "execute_result",
          "data": {
            "text/html": [
              "<div>\n",
              "<style scoped>\n",
              "    .dataframe tbody tr th:only-of-type {\n",
              "        vertical-align: middle;\n",
              "    }\n",
              "\n",
              "    .dataframe tbody tr th {\n",
              "        vertical-align: top;\n",
              "    }\n",
              "\n",
              "    .dataframe thead th {\n",
              "        text-align: right;\n",
              "    }\n",
              "</style>\n",
              "<table border=\"1\" class=\"dataframe\">\n",
              "  <thead>\n",
              "    <tr style=\"text-align: right;\">\n",
              "      <th></th>\n",
              "      <th>trend</th>\n",
              "      <th>yhat_lower</th>\n",
              "      <th>yhat_upper</th>\n",
              "      <th>trend_lower</th>\n",
              "      <th>trend_upper</th>\n",
              "      <th>additive_terms</th>\n",
              "      <th>additive_terms_lower</th>\n",
              "      <th>additive_terms_upper</th>\n",
              "      <th>yearly</th>\n",
              "      <th>yearly_lower</th>\n",
              "      <th>yearly_upper</th>\n",
              "      <th>multiplicative_terms</th>\n",
              "      <th>multiplicative_terms_lower</th>\n",
              "      <th>multiplicative_terms_upper</th>\n",
              "      <th>yhat</th>\n",
              "    </tr>\n",
              "    <tr>\n",
              "      <th>ds</th>\n",
              "      <th></th>\n",
              "      <th></th>\n",
              "      <th></th>\n",
              "      <th></th>\n",
              "      <th></th>\n",
              "      <th></th>\n",
              "      <th></th>\n",
              "      <th></th>\n",
              "      <th></th>\n",
              "      <th></th>\n",
              "      <th></th>\n",
              "      <th></th>\n",
              "      <th></th>\n",
              "      <th></th>\n",
              "      <th></th>\n",
              "    </tr>\n",
              "  </thead>\n",
              "  <tbody>\n",
              "    <tr>\n",
              "      <th>2031-12-31</th>\n",
              "      <td>13619.902692</td>\n",
              "      <td>16499.523787</td>\n",
              "      <td>18195.575116</td>\n",
              "      <td>13618.639415</td>\n",
              "      <td>13621.250552</td>\n",
              "      <td>3732.437426</td>\n",
              "      <td>3732.437426</td>\n",
              "      <td>3732.437426</td>\n",
              "      <td>3732.437426</td>\n",
              "      <td>3732.437426</td>\n",
              "      <td>3732.437426</td>\n",
              "      <td>0.0</td>\n",
              "      <td>0.0</td>\n",
              "      <td>0.0</td>\n",
              "      <td>17352.340118</td>\n",
              "    </tr>\n",
              "    <tr>\n",
              "      <th>2032-12-31</th>\n",
              "      <td>13981.021433</td>\n",
              "      <td>16626.855261</td>\n",
              "      <td>18377.192927</td>\n",
              "      <td>13979.549730</td>\n",
              "      <td>13982.584953</td>\n",
              "      <td>3500.389785</td>\n",
              "      <td>3500.389785</td>\n",
              "      <td>3500.389785</td>\n",
              "      <td>3500.389785</td>\n",
              "      <td>3500.389785</td>\n",
              "      <td>3500.389785</td>\n",
              "      <td>0.0</td>\n",
              "      <td>0.0</td>\n",
              "      <td>0.0</td>\n",
              "      <td>17481.411218</td>\n",
              "    </tr>\n",
              "    <tr>\n",
              "      <th>2033-12-31</th>\n",
              "      <td>14341.153510</td>\n",
              "      <td>17020.684251</td>\n",
              "      <td>18780.270933</td>\n",
              "      <td>14339.470234</td>\n",
              "      <td>14342.899817</td>\n",
              "      <td>3540.243518</td>\n",
              "      <td>3540.243518</td>\n",
              "      <td>3540.243518</td>\n",
              "      <td>3540.243518</td>\n",
              "      <td>3540.243518</td>\n",
              "      <td>3540.243518</td>\n",
              "      <td>0.0</td>\n",
              "      <td>0.0</td>\n",
              "      <td>0.0</td>\n",
              "      <td>17881.397028</td>\n",
              "    </tr>\n",
              "    <tr>\n",
              "      <th>2034-12-31</th>\n",
              "      <td>14701.285587</td>\n",
              "      <td>17466.949718</td>\n",
              "      <td>19115.593347</td>\n",
              "      <td>14699.402771</td>\n",
              "      <td>14703.226236</td>\n",
              "      <td>3617.658860</td>\n",
              "      <td>3617.658860</td>\n",
              "      <td>3617.658860</td>\n",
              "      <td>3617.658860</td>\n",
              "      <td>3617.658860</td>\n",
              "      <td>3617.658860</td>\n",
              "      <td>0.0</td>\n",
              "      <td>0.0</td>\n",
              "      <td>0.0</td>\n",
              "      <td>18318.944448</td>\n",
              "    </tr>\n",
              "    <tr>\n",
              "      <th>2035-12-31</th>\n",
              "      <td>15061.417665</td>\n",
              "      <td>17912.190313</td>\n",
              "      <td>19661.676355</td>\n",
              "      <td>15059.352612</td>\n",
              "      <td>15063.574538</td>\n",
              "      <td>3732.437426</td>\n",
              "      <td>3732.437426</td>\n",
              "      <td>3732.437426</td>\n",
              "      <td>3732.437426</td>\n",
              "      <td>3732.437426</td>\n",
              "      <td>3732.437426</td>\n",
              "      <td>0.0</td>\n",
              "      <td>0.0</td>\n",
              "      <td>0.0</td>\n",
              "      <td>18793.855091</td>\n",
              "    </tr>\n",
              "  </tbody>\n",
              "</table>\n",
              "</div>"
            ],
            "text/plain": [
              "                   trend  ...          yhat\n",
              "ds                        ...              \n",
              "2031-12-31  13619.902692  ...  17352.340118\n",
              "2032-12-31  13981.021433  ...  17481.411218\n",
              "2033-12-31  14341.153510  ...  17881.397028\n",
              "2034-12-31  14701.285587  ...  18318.944448\n",
              "2035-12-31  15061.417665  ...  18793.855091\n",
              "\n",
              "[5 rows x 15 columns]"
            ]
          },
          "metadata": {},
          "execution_count": 27
        }
      ]
    },
    {
      "cell_type": "code",
      "metadata": {
        "colab": {
          "base_uri": "https://localhost:8080/",
          "height": 474
        },
        "id": "a5U71eBR8lGy",
        "outputId": "b8ede3ee-2bbc-4571-bf6c-9ba05be40926"
      },
      "source": [
        "# Plot predictions for our forecast_famrland_prices_california DataFrame for the 15 year period \n",
        "forecast_farmland_prices_california[['yhat', 'yhat_lower', 'yhat_upper']].iloc[-15:,:].plot(title= \"Forcast of the farmland prices in California (in USD)\", figsize=(15,7))\n",
        "\n"
      ],
      "execution_count": 28,
      "outputs": [
        {
          "output_type": "execute_result",
          "data": {
            "text/plain": [
              "<matplotlib.axes._subplots.AxesSubplot at 0x7fdf26e00cd0>"
            ]
          },
          "metadata": {},
          "execution_count": 28
        },
        {
          "output_type": "display_data",
          "data": {
            "image/png": "[encoded data removed]",
            "text/plain": [
              "<Figure size 1080x504 with 1 Axes>"
            ]
          },
          "metadata": {
            "needs_background": "light"
          }
        }
      ]
    },
    {
      "cell_type": "code",
      "metadata": {
        "id": "lm0aOxcJ8wHP",
        "colab": {
          "base_uri": "https://localhost:8080/",
          "height": 441
        },
        "outputId": "df806dad-ac6d-448a-8c67-5c9b9cbccc9b"
      },
      "source": [
        "# Reseting the index in the forecast_farmland_prices_california DataFrame\n",
        "forecast_farmland_prices_california = forecast_farmland_prices_california.reset_index()\n",
        "\n",
        "# Using the plot_components function to visualize the forecast results \n",
        "\n",
        "fig = model.plot_components(forecast_farmland_prices_california)"
      ],
      "execution_count": 23,
      "outputs": [
        {
          "output_type": "display_data",
          "data": {
            "image/png": "[encoded data removed]",
            "text/plain": [
              "<Figure size 648x432 with 2 Axes>"
            ]
          },
          "metadata": {}
        }
      ]
    }
  ]
}